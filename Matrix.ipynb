{
  "nbformat": 4,
  "nbformat_minor": 0,
  "metadata": {
    "colab": {
      "provenance": [],
      "toc_visible": true
    },
    "kernelspec": {
      "name": "python3",
      "display_name": "Python 3"
    },
    "language_info": {
      "name": "python"
    }
  },
  "cells": [
    {
      "cell_type": "markdown",
      "source": [
        "# 1.Indexing"
      ],
      "metadata": {
        "id": "edaJd3GqbaYb"
      }
    },
    {
      "cell_type": "code",
      "source": [
        "lst0 = [1,2,3]\n",
        "lst1 = [4,5,6]\n",
        "lst2 = [7,8,9]\n",
        "\n",
        "# List of lists is required to form matrix\n",
        "\n",
        "matr = [lst0,lst1,lst2]\n",
        "print(matr)\n",
        "print(matr[1][2]) # [1] = row, [2] = column"
      ],
      "metadata": {
        "colab": {
          "base_uri": "https://localhost:8080/"
        },
        "id": "BUKLj4b8cJFk",
        "outputId": "deb6e2a6-6199-4714-d6d8-e7be933dcc9a"
      },
      "execution_count": 1,
      "outputs": [
        {
          "output_type": "stream",
          "name": "stdout",
          "text": [
            "[[1, 2, 3], [4, 5, 6], [7, 8, 9]]\n",
            "6\n"
          ]
        }
      ]
    },
    {
      "cell_type": "markdown",
      "source": [
        "# 2.Creation"
      ],
      "metadata": {
        "id": "p3htEvEIbfyg"
      }
    },
    {
      "cell_type": "code",
      "source": [
        "# Create matrix of grade visualization of 7 students x 4 subjects\n",
        "# Each subject is out of 100\n",
        "# Each student per column will have 4 subjects against each of them\n",
        "# Subjects - Math, English, Physics, Computer Science\n",
        "# Students - Tim, Kim, John, Ron, Harry, Sully, Kelly\n",
        "# Row - 0 to 6, Column - 0 to 3\n",
        "\n",
        "lst0 = [50,60,70,90]\n",
        "lst1 = [66,70,91,75]\n",
        "lst2 = [60,55,71,12]\n",
        "lst3 = [32,43,33,20]\n",
        "lst4 = [12,43,55,66]\n",
        "lst5 = [32,43,90,99]\n",
        "lst6 = [40,77,99,43]\n",
        "\n",
        "lst_st = [lst0,lst1,lst2,lst3,lst4,lst5,lst6]\n",
        "print(lst_st)\n",
        "print(lst_st[2][1])"
      ],
      "metadata": {
        "colab": {
          "base_uri": "https://localhost:8080/"
        },
        "id": "X-kp5pA8fS70",
        "outputId": "c50ec88e-3f1b-40e7-e7ae-50789f67c00c"
      },
      "execution_count": 2,
      "outputs": [
        {
          "output_type": "stream",
          "name": "stdout",
          "text": [
            "[[50, 60, 70, 90], [66, 70, 91, 75], [60, 55, 71, 12], [32, 43, 33, 20], [12, 43, 55, 66], [32, 43, 90, 99], [40, 77, 99, 43]]\n",
            "55\n"
          ]
        }
      ]
    },
    {
      "cell_type": "code",
      "source": [
        "# Finding the lists in lists\n",
        "\n",
        "lst = ['mostafa', 'saad', 'ibrahim']\n",
        "lst2 = [lst,(5,7)]\n",
        "\n",
        "print(lst)\n",
        "print(lst2)\n",
        "print(lst2[0][1],lst2[1][1])"
      ],
      "metadata": {
        "colab": {
          "base_uri": "https://localhost:8080/"
        },
        "id": "Pv0wgSJDC_ow",
        "outputId": "24a754b8-b4e8-4d9f-eb38-6e67c062e97c"
      },
      "execution_count": 3,
      "outputs": [
        {
          "output_type": "stream",
          "name": "stdout",
          "text": [
            "['mostafa', 'saad', 'ibrahim']\n",
            "[['mostafa', 'saad', 'ibrahim'], (5, 7)]\n",
            "saad 7\n"
          ]
        }
      ]
    },
    {
      "cell_type": "code",
      "source": [
        "# List example\n",
        "\n",
        "lst = [[[1]]]\n",
        "print(lst,lst[0],lst[0][0],lst[0][0][0])"
      ],
      "metadata": {
        "colab": {
          "base_uri": "https://localhost:8080/"
        },
        "id": "okNbQzpgD-ty",
        "outputId": "fdef7721-b347-4f83-ac2d-adef697bd566"
      },
      "execution_count": 4,
      "outputs": [
        {
          "output_type": "stream",
          "name": "stdout",
          "text": [
            "[[[1]]] [[1]] [1] 1\n"
          ]
        }
      ]
    },
    {
      "cell_type": "markdown",
      "source": [
        "# 3.Printing"
      ],
      "metadata": {
        "id": "GTG77tyVbmnx"
      }
    },
    {
      "cell_type": "code",
      "source": [
        "# Approach - 1\n",
        "\n",
        "lst1 = [1,2,3,4]\n",
        "lst2 = [5,6]\n",
        "lst3 = [9,10,11,12,13]\n",
        "\n",
        "grades = [lst1,lst2,lst3]\n",
        "\n",
        "for lst in grades:\n",
        "  print(lst)\n",
        "\n",
        "print()\n",
        "\n",
        "for lst in grades:\n",
        "  print(*lst)"
      ],
      "metadata": {
        "colab": {
          "base_uri": "https://localhost:8080/"
        },
        "id": "SY5kNlipEV1Y",
        "outputId": "97374192-5a85-404f-ae06-50a81e9bdb66"
      },
      "execution_count": 5,
      "outputs": [
        {
          "output_type": "stream",
          "name": "stdout",
          "text": [
            "[1, 2, 3, 4]\n",
            "[5, 6]\n",
            "[9, 10, 11, 12, 13]\n",
            "\n",
            "1 2 3 4\n",
            "5 6\n",
            "9 10 11 12 13\n"
          ]
        }
      ]
    },
    {
      "cell_type": "code",
      "source": [
        "# Approach - 2\n",
        "\n",
        "lst1 = [1,2,3,4]\n",
        "lst2 = [5,6]\n",
        "lst3 = [9,10,11,12,13]\n",
        "\n",
        "grades = [lst1,lst2,lst3]\n",
        "\n",
        "for i,lst in enumerate(grades):\n",
        "  for j, item in enumerate(lst):\n",
        "    print(item, end=' ')\n",
        "  print()"
      ],
      "metadata": {
        "colab": {
          "base_uri": "https://localhost:8080/"
        },
        "id": "4dpxzyAAFbpk",
        "outputId": "6b1f50d3-bf70-4587-d703-76f6ff7e8999"
      },
      "execution_count": 6,
      "outputs": [
        {
          "output_type": "stream",
          "name": "stdout",
          "text": [
            "1 2 3 4 \n",
            "5 6 \n",
            "9 10 11 12 13 \n"
          ]
        }
      ]
    },
    {
      "cell_type": "code",
      "source": [
        "# Approach - 3\n",
        "\n",
        "lst1 = [1,2,3,4]\n",
        "lst2 = [5,6]\n",
        "lst3 = [9,10,11,12,13]\n",
        "\n",
        "grades = [lst1,lst2,lst3]\n",
        "\n",
        "for i in range(len(grades)): # vertical length of the matrix - number of rows\n",
        "  for j in range(len(grades[i])): # horizontal length of each row - number of columns\n",
        "    print(grades[i][j], end=' ')\n",
        "  print()"
      ],
      "metadata": {
        "colab": {
          "base_uri": "https://localhost:8080/"
        },
        "id": "lYWto_YHGJIw",
        "outputId": "35825487-7c41-4d72-99e9-b6ddf8eb0a5c"
      },
      "execution_count": 7,
      "outputs": [
        {
          "output_type": "stream",
          "name": "stdout",
          "text": [
            "1 2 3 4 \n",
            "5 6 \n",
            "9 10 11 12 13 \n"
          ]
        }
      ]
    },
    {
      "cell_type": "markdown",
      "source": [
        "# 4.Reading"
      ],
      "metadata": {
        "id": "PV6u86TwbruU"
      }
    },
    {
      "cell_type": "code",
      "source": [
        "# Input number of rows\n",
        "\n",
        "rows = int(input())\n",
        "matrx = [0] * rows # [0,0,0]\n",
        "\n",
        "# Inputting elements per row\n",
        "\n",
        "for rw in range(rows):\n",
        "  matrx[rw] = list(map(int, input().split()))\n",
        "\n",
        "# Printing the entire matrix\n",
        "print(matrx)\n",
        "\n",
        "print()\n",
        "for lst in matrx:\n",
        "  print(lst)"
      ],
      "metadata": {
        "colab": {
          "base_uri": "https://localhost:8080/"
        },
        "id": "YpACLCkPHUgx",
        "outputId": "4743e15c-8b48-4a81-e177-2edefb394b25"
      },
      "execution_count": null,
      "outputs": [
        {
          "output_type": "stream",
          "name": "stdout",
          "text": [
            "3\n",
            "1 2 3 4\n",
            "5 6\n",
            "10 11 12 13 14\n",
            "[[1, 2, 3, 4], [5, 6], [10, 11, 12, 13, 14]]\n",
            "\n",
            "[1, 2, 3, 4]\n",
            "[5, 6]\n",
            "[10, 11, 12, 13, 14]\n"
          ]
        }
      ]
    },
    {
      "cell_type": "markdown",
      "source": [
        "# 5.Row-Major Order Processing"
      ],
      "metadata": {
        "id": "IuqpPXrNbuWv"
      }
    },
    {
      "cell_type": "code",
      "source": [
        "# Create matrix of grade visualization of 7 students x 4 subjects\n",
        "# Each subject is out of 100\n",
        "# Each student per column will have 4 subjects against each of them\n",
        "# Subjects - Math, English, Physics, Computer Science\n",
        "# Students - Tim, Kim, John, Ron, Harry, Sully, Kelly\n",
        "# Row - 0 to 6, Column - 0 to 3\n",
        "# Find the average per student for all subjects\n",
        "# We can find the average by doing average per row\n",
        "\n",
        "lst0 = [50,60,70,90]\n",
        "lst1 = [66,70,91,75]\n",
        "lst2 = [60,55,71,12]\n",
        "lst3 = [32,43,33,20]\n",
        "lst4 = [12,43,55,66]\n",
        "lst5 = [32,43,90,99]\n",
        "lst6 = [40,77,99,43]\n",
        "\n",
        "lst_st = [lst0,lst1,lst2,lst3,lst4,lst5,lst6]\n",
        "\n",
        "print()\n",
        "for lst in lst_st:\n",
        "  print(lst)\n",
        "\n",
        "# Empty list for storing the average of the students\n",
        "\n",
        "row_avg = []\n",
        "\n",
        "for lst in lst_st:\n",
        "  print(lst,end=' ')\n",
        "  sum = 0\n",
        "  for sub in lst:\n",
        "    sum = sum + sub\n",
        "  avg = sum/len(lst)\n",
        "  row_avg.append(avg)\n",
        "  print(sum,len(lst),avg)\n",
        "\n",
        "print(row_avg)\n",
        "\n",
        "# Pythonic Way - same result but more concise\n",
        "# row_avg = [sum(lst)/len(lst) for lst in lst_st]"
      ],
      "metadata": {
        "colab": {
          "base_uri": "https://localhost:8080/"
        },
        "id": "nm7alo46JAVO",
        "outputId": "253d373a-4d52-486b-9fbe-70a98ca51007"
      },
      "execution_count": 8,
      "outputs": [
        {
          "output_type": "stream",
          "name": "stdout",
          "text": [
            "\n",
            "[50, 60, 70, 90]\n",
            "[66, 70, 91, 75]\n",
            "[60, 55, 71, 12]\n",
            "[32, 43, 33, 20]\n",
            "[12, 43, 55, 66]\n",
            "[32, 43, 90, 99]\n",
            "[40, 77, 99, 43]\n",
            "[50, 60, 70, 90] 270 4 67.5\n",
            "[66, 70, 91, 75] 302 4 75.5\n",
            "[60, 55, 71, 12] 198 4 49.5\n",
            "[32, 43, 33, 20] 128 4 32.0\n",
            "[12, 43, 55, 66] 176 4 44.0\n",
            "[32, 43, 90, 99] 264 4 66.0\n",
            "[40, 77, 99, 43] 259 4 64.75\n",
            "[67.5, 75.5, 49.5, 32.0, 44.0, 66.0, 64.75]\n"
          ]
        }
      ]
    },
    {
      "cell_type": "markdown",
      "source": [
        "# 6.Column-Major Order Processing"
      ],
      "metadata": {
        "id": "x-rZbidUb1GZ"
      }
    },
    {
      "cell_type": "code",
      "source": [
        "# Find the average of students per subject\n",
        "# We can find the average by doing average per column\n",
        "\n",
        "lst0 = [50,60,70,90]\n",
        "lst1 = [66,70,91,75]\n",
        "lst2 = [60,55,71,12]\n",
        "lst3 = [32,43,33,20]\n",
        "lst4 = [12,43,55,66]\n",
        "lst5 = [32,43,90,99]\n",
        "lst6 = [40,77,99,43]\n",
        "\n",
        "lst_st = [lst0,lst1,lst2,lst3,lst4,lst5,lst6]\n",
        "\n",
        "print()\n",
        "for lst in lst_st:\n",
        "  print(lst)\n",
        "\n",
        "print()\n",
        "\n",
        "# Empty list for storing the average of the students\n",
        "\n",
        "col_avg = []\n",
        "\n",
        "for col in range(len(lst_st[0])): # horizontal length of each row - number of columns\n",
        "  sum = 0\n",
        "  for row in range(len(lst_st)): # vertical length of the matrix - number of rows\n",
        "    sum = sum + lst_st[row][col]\n",
        "  avg = sum/len(lst_st)\n",
        "  col_avg.append(avg)\n",
        "  print(sum,len(lst_st),avg)\n",
        "\n",
        "print(col_avg)"
      ],
      "metadata": {
        "colab": {
          "base_uri": "https://localhost:8080/"
        },
        "id": "QVmfOd-QLkzP",
        "outputId": "bf8937b1-c7cc-4046-a479-d37d7292aa0b"
      },
      "execution_count": 9,
      "outputs": [
        {
          "output_type": "stream",
          "name": "stdout",
          "text": [
            "\n",
            "[50, 60, 70, 90]\n",
            "[66, 70, 91, 75]\n",
            "[60, 55, 71, 12]\n",
            "[32, 43, 33, 20]\n",
            "[12, 43, 55, 66]\n",
            "[32, 43, 90, 99]\n",
            "[40, 77, 99, 43]\n",
            "\n",
            "292 7 41.714285714285715\n",
            "391 7 55.857142857142854\n",
            "509 7 72.71428571428571\n",
            "405 7 57.857142857142854\n",
            "[41.714285714285715, 55.857142857142854, 72.71428571428571, 57.857142857142854]\n"
          ]
        }
      ]
    },
    {
      "cell_type": "code",
      "source": [
        "# Another Approach - Pythonic Way\n",
        "# It is done by unpacking the lists inside the matrix and then zipping them\n",
        "\n",
        "grades = [[1,2,3,4],[5,6],[9,10,11,12,13]]\n",
        "for rows in grades:\n",
        "  print(rows)\n",
        "print()\n",
        "\n",
        "# Zipping & Unpacking\n",
        "\n",
        "for a,b,c in zip(*grades):\n",
        "  print(a,b,c)\n",
        "print()"
      ],
      "metadata": {
        "colab": {
          "base_uri": "https://localhost:8080/"
        },
        "id": "3Tg0y7lpOpN2",
        "outputId": "7c248802-cdd0-4e46-ec69-4269e72de569"
      },
      "execution_count": 10,
      "outputs": [
        {
          "output_type": "stream",
          "name": "stdout",
          "text": [
            "[1, 2, 3, 4]\n",
            "[5, 6]\n",
            "[9, 10, 11, 12, 13]\n",
            "\n",
            "1 5 9\n",
            "2 6 10\n",
            "\n"
          ]
        }
      ]
    },
    {
      "cell_type": "code",
      "source": [
        "col_avg = []\n",
        "for tup in zip(*grades):\n",
        "  print(tup)\n",
        "  print(*tup)\n",
        "  sum = 0\n",
        "  for item in tup:\n",
        "    sum = sum + item\n",
        "  avg = sum / len(tup)\n",
        "  col_avg.append(avg)\n",
        "  print(sum,len(tup),avg)\n",
        "\n",
        "# Computing average along the column using comprehension\n",
        "\n",
        "# col_avg = [sum(tup)/len(tup) for tup in zip(*grade1)] - gives error that int object not callable\n",
        "print()\n",
        "print(col_avg)"
      ],
      "metadata": {
        "colab": {
          "base_uri": "https://localhost:8080/"
        },
        "id": "ycQ2h1WjSCfU",
        "outputId": "bec83f59-8985-4848-ba75-cef528d5e28e"
      },
      "execution_count": 11,
      "outputs": [
        {
          "output_type": "stream",
          "name": "stdout",
          "text": [
            "(1, 5, 9)\n",
            "1 5 9\n",
            "15 3 5.0\n",
            "(2, 6, 10)\n",
            "2 6 10\n",
            "18 3 6.0\n",
            "\n",
            "[5.0, 6.0]\n"
          ]
        }
      ]
    },
    {
      "cell_type": "markdown",
      "source": [
        "# 7.Nesting Comprehensions"
      ],
      "metadata": {
        "id": "na6yY1MVb5gk"
      }
    },
    {
      "cell_type": "code",
      "source": [
        "# Flattening a list\n",
        "\n",
        "lst_of_lsts = [[1,2],[3],[1,2,3,4,5,6],[9,10,11,12]]\n",
        "lst1 = []\n",
        "\n",
        "for lst in lst_of_lsts:\n",
        "  for item in lst:\n",
        "    lst1.append(item)\n",
        "print(lst1)\n",
        "\n",
        "# Pythonic approach to flatten a list\n",
        "\n",
        "lst2 = [item for lst in lst_of_lsts for item in lst] # the innermost list will be at the end\n",
        "print(lst2)"
      ],
      "metadata": {
        "colab": {
          "base_uri": "https://localhost:8080/"
        },
        "id": "hDwhmhkiST2z",
        "outputId": "460ec42f-b729-430b-c842-456d1981a0de"
      },
      "execution_count": 12,
      "outputs": [
        {
          "output_type": "stream",
          "name": "stdout",
          "text": [
            "[1, 2, 3, 1, 2, 3, 4, 5, 6, 9, 10, 11, 12]\n",
            "[1, 2, 3, 1, 2, 3, 4, 5, 6, 9, 10, 11, 12]\n"
          ]
        }
      ]
    },
    {
      "cell_type": "code",
      "source": [
        "# Adding an integer number to all the elements in the matrix\n",
        "\n",
        "addls = [[item+10 for item in lst] for lst in lst_of_lsts]\n",
        "print(addls)"
      ],
      "metadata": {
        "colab": {
          "base_uri": "https://localhost:8080/"
        },
        "id": "86KkSXjNTY19",
        "outputId": "31e3ac76-dcff-4e13-807a-8da78fd08a53"
      },
      "execution_count": 13,
      "outputs": [
        {
          "output_type": "stream",
          "name": "stdout",
          "text": [
            "[[11, 12], [13], [11, 12, 13, 14, 15, 16], [19, 20, 21, 22]]\n"
          ]
        }
      ]
    },
    {
      "cell_type": "code",
      "source": [
        "# Generating pairs\n",
        "\n",
        "lst1 = [1,2]\n",
        "lst2 = [10,20,30]\n",
        "\n",
        "pairs = []\n",
        "\n",
        "for i in lst1:\n",
        "  for j in lst2:\n",
        "    pairs.append((i,j))\n",
        "\n",
        "print(pairs)\n",
        "\n",
        "# Pythonic Approach\n",
        "\n",
        "pairs = [(item1,item2) for item1 in lst1 for item2 in lst2] # Comprehension on nested loop\n",
        "print(pairs)"
      ],
      "metadata": {
        "colab": {
          "base_uri": "https://localhost:8080/"
        },
        "id": "fLs2sJKvUck4",
        "outputId": "88d0fcd7-beaf-43e1-f07e-00f86ea6fba5"
      },
      "execution_count": 14,
      "outputs": [
        {
          "output_type": "stream",
          "name": "stdout",
          "text": [
            "[(1, 10), (1, 20), (1, 30), (2, 10), (2, 20), (2, 30)]\n",
            "[(1, 10), (1, 20), (1, 30), (2, 10), (2, 20), (2, 30)]\n"
          ]
        }
      ]
    },
    {
      "cell_type": "markdown",
      "source": [
        "# 8.Creating Simple Grid"
      ],
      "metadata": {
        "id": "8cZ06WQucBsk"
      }
    },
    {
      "cell_type": "code",
      "source": [
        "# Initiating a grid with zeros based on rows and columns number\n",
        "\n",
        "rows,cols = 3,4\n",
        "lst = [[0]*rows]*cols\n",
        "print(lst)\n",
        "\n",
        "# Changing a value at a particular position\n",
        "lst[0][0] = 2\n",
        "print(lst)\n",
        "print(id(lst[0]), id(lst[1])) # the address are the same so in-place change takes place\n",
        "print(id(lst[0][0]), id(lst[0][1])) # the adress of the initial starting of each list is same "
      ],
      "metadata": {
        "id": "K5dkMrysVEum",
        "colab": {
          "base_uri": "https://localhost:8080/"
        },
        "outputId": "42d44358-5de6-46f1-cd39-f0407b5ad9c7"
      },
      "execution_count": 15,
      "outputs": [
        {
          "output_type": "stream",
          "name": "stdout",
          "text": [
            "[[0, 0, 0], [0, 0, 0], [0, 0, 0], [0, 0, 0]]\n",
            "[[2, 0, 0], [2, 0, 0], [2, 0, 0], [2, 0, 0]]\n",
            "140437139533504 140437139533504\n",
            "9793120 9793056\n"
          ]
        }
      ]
    },
    {
      "cell_type": "code",
      "source": [
        "# Another approach\n",
        "\n",
        "lst = [[0]*rows for i in range(cols)]\n",
        "print(lst)\n",
        "\n",
        "# Changing a value at a particular position\n",
        "lst[0][0] = 2\n",
        "print(lst)\n",
        "print(id(lst[0]), id(lst[1])) # the address are different so only that element changes\n",
        "print(id(lst[0][0]), id(lst[0][1])) # the adress of the initial starting of each list is different"
      ],
      "metadata": {
        "colab": {
          "base_uri": "https://localhost:8080/"
        },
        "id": "g_4zblAGn8By",
        "outputId": "069fef5a-a618-4488-f3fe-1dabd09f606b"
      },
      "execution_count": 16,
      "outputs": [
        {
          "output_type": "stream",
          "name": "stdout",
          "text": [
            "[[0, 0, 0], [0, 0, 0], [0, 0, 0], [0, 0, 0]]\n",
            "[[2, 0, 0], [0, 0, 0], [0, 0, 0], [0, 0, 0]]\n",
            "140437139531648 140437639591040\n",
            "9793120 9793056\n"
          ]
        }
      ]
    },
    {
      "cell_type": "code",
      "source": [
        "# In the 1st case, the lists are multiplied by cols times\n",
        "# It means modifying the list in the single place\n",
        "# For the 2nd case, it loops for cols times, creating rows number of elemens for each turn"
      ],
      "metadata": {
        "id": "LdP0ub_doUcB"
      },
      "execution_count": null,
      "outputs": []
    },
    {
      "cell_type": "code",
      "source": [
        "# Another Example\n",
        "\n",
        "lst = [[x for x in range(rows)] for y in range(cols)]\n",
        "print(lst)"
      ],
      "metadata": {
        "colab": {
          "base_uri": "https://localhost:8080/"
        },
        "id": "ddKZE7f-pJd6",
        "outputId": "2b3a3ff6-4694-4f79-d367-2cd14f81eca5"
      },
      "execution_count": 17,
      "outputs": [
        {
          "output_type": "stream",
          "name": "stdout",
          "text": [
            "[[0, 1, 2], [0, 1, 2], [0, 1, 2], [0, 1, 2]]\n"
          ]
        }
      ]
    },
    {
      "cell_type": "markdown",
      "source": [
        "# 9.Position Neighbours"
      ],
      "metadata": {
        "id": "I02pZ7WOcGap"
      }
    },
    {
      "cell_type": "code",
      "source": [
        "# For a position (i,j) we use two types of neighbours\n",
        "# 4 neighbours - up(i-1,j), down(i+1,j), left(i,j-1), right(i,j+1)\n",
        "# 8 neighbours - up, down, left, right, \n",
        "# 8 neighbours - up right(i-1,j+1), up left(i-1,j-1), down right(i+1,j+1), down left(i+1,j-1)\n",
        "\n",
        "# Coding the 4 neighbour\n",
        "\n",
        "def get_neighbours(i,j):\n",
        "  # up, down, left, right\n",
        "\n",
        "  di = [-1,1,0,0]\n",
        "  dj = [0,0,-1,1]\n",
        "\n",
        "  return [(i+di[d],j+dj[d]) for d in range(0,4,1)]\n",
        "\n",
        "print(get_neighbours(0,0))\n",
        "print(get_neighbours(3,6))\n",
        "\n",
        "# Similarly, we can code 8 neighbours"
      ],
      "metadata": {
        "colab": {
          "base_uri": "https://localhost:8080/"
        },
        "id": "uOxum7cccLCN",
        "outputId": "151b0610-ced0-4098-b725-80a847cf77e8"
      },
      "execution_count": 18,
      "outputs": [
        {
          "output_type": "stream",
          "name": "stdout",
          "text": [
            "[(-1, 0), (1, 0), (0, -1), (0, 1)]\n",
            "[(2, 6), (4, 6), (3, 5), (3, 7)]\n"
          ]
        }
      ]
    },
    {
      "cell_type": "markdown",
      "source": [
        "# 10.2D-1D Mapping"
      ],
      "metadata": {
        "id": "6D7BeqORej1K"
      }
    },
    {
      "cell_type": "code",
      "source": [
        "# We have 3x4 matrix\n",
        "#lst = [\n",
        "#    [8, 16, 9, 52], [0][0],[0][1],[0][2],[0][3]\n",
        "#    [3, 15, 27, 6], [1][0],[1][1],[1][2],[1][3]\n",
        "#    [14, 25, 2, 10] [2][0],[2][1],[2][2],[2][3]\n",
        "#]\n",
        "# We can flatten to flst = [8, 16, 9, 52, 3, 15, 27, 6, 14, 25, 2, 10]\n",
        "# We can flatten id flst = [0, 01, 2, 03, 4, 05, 06, 7, 08, 09, 10, 11] \n",
        "\n",
        "# Relationship between indices\n",
        "# lst[0][3] = 52 ⇒ is same as ⇒ flst[3]\n",
        "# lst[1][0] = 3 ⇒ is same as ⇒ flst[4]\n",
        "\n",
        "# For an NxM grid:\n",
        "# 1. Given index (i, j), convert to its corresponding 1D flat index? E.g. (1, 0) ⇒ 4\n",
        "\n",
        "# To convert from (i, j) in matrix to 1D array\n",
        "# i * COLS + j - because it is completing 1 circle around the entire row\n",
        "\n",
        "# (0, 0) ⇒ 0 * 4 + 0 = 0\n",
        "# (0, 1) ⇒ 0 * 4 + 1 = 1\n",
        "# (0, 2) ⇒ 0 * 4 + 2 = 2\n",
        "# (0, 3) ⇒ 0 * 4 + 3 = 3\n",
        "# (1, 0) ⇒ 1 * 4 + 0 = 4\n",
        "# (1, 1) ⇒ 1 * 4 + 1 = 5\n",
        "# (1, 2) ⇒ 1 * 4 + 2 = 6\n",
        "# (1, 3) ⇒ 1 * 4 + 3= 7\n"
      ],
      "metadata": {
        "id": "pMhLWBNgeoCL"
      },
      "execution_count": 19,
      "outputs": []
    },
    {
      "cell_type": "code",
      "source": [
        "# 2. Given index i in 1D flat index, convert to its corresponding 2D (i, j)? 4 ⇒ (1, 0)\n",
        "\n",
        "#lst = [\n",
        "#    [8, 16, 9, 52], [0][0],[0][1],[0][2],[0][3]\n",
        "#    [3, 15, 27, 6], [1][0],[1][1],[1][2],[1][3]\n",
        "#    [14, 25, 2, 10] [2][0],[2][1],[2][2],[2][3]\n",
        "#]\n",
        "# We can flatten to flst = [8, 16, 9, 52, 3, 15, 27, 6, 14, 25, 2, 10]\n",
        "# We can flatten id flst = [0, 01, 2, 03, 4, 05, 06, 7, 08, 09, 10, 11] \n",
        "\n",
        "# To convert from index in 1D array to (i, j) in matrix\n",
        "\n",
        "\n",
        "# i = idx//COLS, j = idx%COLS\n",
        "# Idx = 6 ⇒ (6//4, 6%4) ⇒ (1, 2)\n",
        "# Why? Idx = i * COLS + j\n",
        "\n",
        "# Idx // COLS = (i * COLS + j)//COLS = i + 0, as j < COLS\n",
        "# Idx % COLS = (i * COLS + j)%COLS = 0 + j, as j < COLS and (i*COLS)%COLS = 0"
      ],
      "metadata": {
        "id": "DwSgfC7OjUQa"
      },
      "execution_count": 20,
      "outputs": []
    }
  ]
}