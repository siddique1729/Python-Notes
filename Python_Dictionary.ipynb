{
  "nbformat": 4,
  "nbformat_minor": 0,
  "metadata": {
    "colab": {
      "provenance": [],
      "toc_visible": true
    },
    "kernelspec": {
      "name": "python3",
      "display_name": "Python 3"
    },
    "language_info": {
      "name": "python"
    }
  },
  "cells": [
    {
      "cell_type": "markdown",
      "source": [
        "# 1.Introduction"
      ],
      "metadata": {
        "id": "y48VRTTBgDh8"
      }
    },
    {
      "cell_type": "code",
      "source": [
        "# Dictionary is key-value pair\n",
        "# {key1:value1, key2:value2, Key3:value3,.....}\n",
        "# The keys are restricted and can be from any immutables (int,float,string,tuple)\n",
        "# The values are flexible\n",
        "\n",
        "dictt = {0:10,1:22,2:55}\n",
        "print(dictt, dictt[2])\n",
        "print()\n",
        "\n",
        "print(dictt.items())\n",
        "print(dictt.keys())\n",
        "print(dictt.values())\n",
        "print()"
      ],
      "metadata": {
        "colab": {
          "base_uri": "https://localhost:8080/"
        },
        "id": "RCBe-dQngHLR",
        "outputId": "8b82ad0f-9e33-44e5-c609-e027fed46ef7"
      },
      "execution_count": 1,
      "outputs": [
        {
          "output_type": "stream",
          "name": "stdout",
          "text": [
            "{0: 10, 1: 22, 2: 55} 55\n",
            "\n",
            "dict_items([(0, 10), (1, 22), (2, 55)])\n",
            "dict_keys([0, 1, 2])\n",
            "dict_values([10, 22, 55])\n",
            "\n"
          ]
        }
      ]
    },
    {
      "cell_type": "code",
      "source": [
        "# Printing item,keys,values\n",
        "\n",
        "for items in dictt.items():\n",
        "  print(items)\n",
        "print()\n",
        "\n",
        "for key,value in dictt.items():\n",
        "  print(key,value)\n",
        "print()\n",
        "\n",
        "for key in dictt.keys():\n",
        "  print(key)\n",
        "print()\n",
        "\n",
        "for value in dictt.values():\n",
        "  print(value)"
      ],
      "metadata": {
        "colab": {
          "base_uri": "https://localhost:8080/"
        },
        "id": "ysyD7Mqbon57",
        "outputId": "251c9ea8-c35b-4f26-aba1-7c75fe7592a0"
      },
      "execution_count": 2,
      "outputs": [
        {
          "output_type": "stream",
          "name": "stdout",
          "text": [
            "(0, 10)\n",
            "(1, 22)\n",
            "(2, 55)\n",
            "\n",
            "0 10\n",
            "1 22\n",
            "2 55\n",
            "\n",
            "0\n",
            "1\n",
            "2\n",
            "\n",
            "10\n",
            "22\n",
            "55\n"
          ]
        }
      ]
    },
    {
      "cell_type": "code",
      "source": [
        "# Example\n",
        "\n",
        "dit = {\n",
        "    -1200001: 'mostafa',\n",
        "    'ziad': 25.5,\n",
        "    (4,6): [5,6,7],\n",
        "    'Hey': 'asd',\n",
        "    16: {6:90}\n",
        "    #[1,2]:6 - will give error\n",
        "}\n",
        "\n",
        "print(dit)\n",
        "\n",
        "# Basic functions\n",
        "\n",
        "print(len(dit))\n",
        "print(all(dit))\n",
        "print(any(dit))"
      ],
      "metadata": {
        "colab": {
          "base_uri": "https://localhost:8080/"
        },
        "id": "i-BQfCSFovAL",
        "outputId": "9b6b501e-2924-46e3-d9b5-2f02733b5985"
      },
      "execution_count": 3,
      "outputs": [
        {
          "output_type": "stream",
          "name": "stdout",
          "text": [
            "{-1200001: 'mostafa', 'ziad': 25.5, (4, 6): [5, 6, 7], 'Hey': 'asd', 16: {6: 90}}\n",
            "5\n",
            "True\n",
            "True\n"
          ]
        }
      ]
    },
    {
      "cell_type": "markdown",
      "source": [
        "# 2.Update & Delete"
      ],
      "metadata": {
        "id": "SHecO8iaphej"
      }
    },
    {
      "cell_type": "code",
      "source": [
        "# Dictionary is mutable and can be updated\n",
        "# del, pop, popitem\n",
        "\n",
        "dictt = {}\n",
        "dictt[12] = 'hello' # update\n",
        "dictt.update({1:2,77:23}) # updating with multiplekey-value pairs\n",
        "dictt[3] = 7\n",
        "dictt[4] = 56\n",
        "dictt[5] = 321\n",
        "print(dictt)\n",
        "\n",
        "del dictt[12] # delete\n",
        "print(dictt)\n",
        "\n",
        "aa = dictt.pop(3) # pops out and returns the value corresponding to the given key\n",
        "print(dictt,aa)\n",
        "\n",
        "ab = dictt.pop(4,'hello') # pops out and returns a default value corresponding to the given key\n",
        "print(dictt,ab)\n",
        "\n",
        "ac = dictt.popitem() # pops out the last ley-value pair and return it as tuple\n",
        "print(dictt,ac)"
      ],
      "metadata": {
        "colab": {
          "base_uri": "https://localhost:8080/"
        },
        "id": "Kt8unuQIpq4H",
        "outputId": "912b5ebe-30d2-436f-dc75-39ae5225c65f"
      },
      "execution_count": 4,
      "outputs": [
        {
          "output_type": "stream",
          "name": "stdout",
          "text": [
            "{12: 'hello', 1: 2, 77: 23, 3: 7, 4: 56, 5: 321}\n",
            "{1: 2, 77: 23, 3: 7, 4: 56, 5: 321}\n",
            "{1: 2, 77: 23, 4: 56, 5: 321} 7\n",
            "{1: 2, 77: 23, 5: 321} 56\n",
            "{1: 2, 77: 23} (5, 321)\n"
          ]
        }
      ]
    },
    {
      "cell_type": "markdown",
      "source": [
        "# 3.Indexing"
      ],
      "metadata": {
        "id": "gSeKRSGKrPdm"
      }
    },
    {
      "cell_type": "code",
      "source": [
        "dictt = {\n",
        "    'hello': 'abc',\n",
        "    1: [1,2,3],\n",
        "    3: [[1,2,3],[3,4,5,6]]\n",
        "}\n",
        "\n",
        "print(dictt['hello'])\n",
        "print(dictt['hello'][-1])\n",
        "print(dictt[3][1][2])\n",
        "\n",
        "print()\n",
        "\n",
        "for idx, items in enumerate(dictt.items()):\n",
        "  print(idx, items, items[0], items[1])"
      ],
      "metadata": {
        "colab": {
          "base_uri": "https://localhost:8080/"
        },
        "id": "ohB_e4qqrSPW",
        "outputId": "b7255fd9-fad1-494e-9119-0e753e992a98"
      },
      "execution_count": 5,
      "outputs": [
        {
          "output_type": "stream",
          "name": "stdout",
          "text": [
            "abc\n",
            "c\n",
            "5\n",
            "\n",
            "0 ('hello', 'abc') hello abc\n",
            "1 (1, [1, 2, 3]) 1 [1, 2, 3]\n",
            "2 (3, [[1, 2, 3], [3, 4, 5, 6]]) 3 [[1, 2, 3], [3, 4, 5, 6]]\n"
          ]
        }
      ]
    },
    {
      "cell_type": "markdown",
      "source": [
        "# 4.Default"
      ],
      "metadata": {
        "id": "uVMTychJtGbw"
      }
    },
    {
      "cell_type": "code",
      "source": [
        "# Multiple keys/values against a unique key/value\n",
        "# we can use data types as they are immutable\n",
        "\n",
        "dict1 = { int: [6,9,10], float:10, 6:1, 6:2, 6:3}\n",
        "\n",
        "dict2 = { 22: [6,9,10], 33:10, 6:1, 7:1, 9:1 }\n",
        "\n",
        "\n",
        "# When there are multiples values against same key, last value is used\n",
        "print(dict1,dict1[6]) \n",
        "print(dict2)\n",
        "print()\n",
        "\n",
        "# We can use default when there is no key\n",
        "\n",
        "dict2.setdefault(6,20) # no update of value for multiple values against same key\n",
        "dict1.setdefault(6,20) # no update of value for multiple keys against same value\n",
        "\n",
        "dict1.setdefault(99,12)\n",
        "print(dict1)\n",
        "print(dict2)"
      ],
      "metadata": {
        "colab": {
          "base_uri": "https://localhost:8080/"
        },
        "id": "pwd1mve-tJJS",
        "outputId": "d026a4f1-dddb-41a9-9d61-6c14d4d08c7d"
      },
      "execution_count": 6,
      "outputs": [
        {
          "output_type": "stream",
          "name": "stdout",
          "text": [
            "{<class 'int'>: [6, 9, 10], <class 'float'>: 10, 6: 3} 3\n",
            "{22: [6, 9, 10], 33: 10, 6: 1, 7: 1, 9: 1}\n",
            "\n",
            "{<class 'int'>: [6, 9, 10], <class 'float'>: 10, 6: 3, 99: 12}\n",
            "{22: [6, 9, 10], 33: 10, 6: 1, 7: 1, 9: 1}\n"
          ]
        }
      ]
    },
    {
      "cell_type": "markdown",
      "source": [
        "# 5.Key Presence in Dictionary"
      ],
      "metadata": {
        "id": "QUuVVeEbxHWB"
      }
    },
    {
      "cell_type": "code",
      "source": [
        "# Check whether a key is present\n",
        "\n",
        "dict1 = {\n",
        "    -1200:'heloo',\n",
        "    'asd':1212,\n",
        "    (1,2):[1,2,3]\n",
        "}\n",
        "\n",
        "if 'asd' in dict1:\n",
        "  dict1['asd'] = dict1['asd'] + 1\n",
        "  print(dict1)\n",
        "else:\n",
        "  dict1['asd'] = 1"
      ],
      "metadata": {
        "colab": {
          "base_uri": "https://localhost:8080/"
        },
        "id": "exA8NIy0xMdH",
        "outputId": "169d3c8a-c69c-4954-d582-33d39911791f"
      },
      "execution_count": 7,
      "outputs": [
        {
          "output_type": "stream",
          "name": "stdout",
          "text": [
            "{-1200: 'heloo', 'asd': 1213, (1, 2): [1, 2, 3]}\n"
          ]
        }
      ]
    },
    {
      "cell_type": "markdown",
      "source": [
        "# 6.Insertion Order"
      ],
      "metadata": {
        "id": "5Be462ZBzh-M"
      }
    },
    {
      "cell_type": "code",
      "source": [
        "from collections import OrderedDict\n",
        "# Insertion order in dictionary is preserved\n",
        "# But it is recommended to use OrderedDict() of the insertion order is important\n",
        "\n",
        "dict1 = {1:10,2:20,3:30}\n",
        "print(list(dict1.keys()), list(dict1.values())) # order preserved\n",
        "\n",
        "dict2 = OrderedDict()\n",
        "dict2 = {1:10,2:20,3:30}\n",
        "print(list(dict2.keys()), list(dict2.values())) # order preserved"
      ],
      "metadata": {
        "colab": {
          "base_uri": "https://localhost:8080/"
        },
        "id": "XF0iQqAqzk4P",
        "outputId": "1b030514-f7a9-42c7-9aff-abee65d20164"
      },
      "execution_count": 8,
      "outputs": [
        {
          "output_type": "stream",
          "name": "stdout",
          "text": [
            "[1, 2, 3] [10, 20, 30]\n",
            "[1, 2, 3] [10, 20, 30]\n"
          ]
        }
      ]
    },
    {
      "cell_type": "markdown",
      "source": [
        "# 7.Dictionary Comprehension"
      ],
      "metadata": {
        "id": "Yi3vAM7j1ZZg"
      }
    },
    {
      "cell_type": "code",
      "source": [
        "# Initiazling a ditionary using traditional route\n",
        "squares = {}\n",
        "\n",
        "for x in range(6):\n",
        "  squares[x] = x*x\n",
        "\n",
        "print(squares)\n",
        "\n",
        "# Pythonic initialization\n",
        "\n",
        "squares1 = {x:x*x for x in range(6)}\n",
        "print(squares1)"
      ],
      "metadata": {
        "colab": {
          "base_uri": "https://localhost:8080/"
        },
        "id": "F-7i5L0a1dJC",
        "outputId": "c005d7bd-04ec-48be-f800-e4366b790dbd"
      },
      "execution_count": 9,
      "outputs": [
        {
          "output_type": "stream",
          "name": "stdout",
          "text": [
            "{0: 0, 1: 1, 2: 4, 3: 9, 4: 16, 5: 25}\n",
            "{0: 0, 1: 1, 2: 4, 3: 9, 4: 16, 5: 25}\n"
          ]
        }
      ]
    },
    {
      "cell_type": "markdown",
      "source": [
        "# 8.Dictionary Construction"
      ],
      "metadata": {
        "id": "UHzP9V3t2xtc"
      }
    },
    {
      "cell_type": "code",
      "source": [
        "# Method 1 - most common\n",
        "a = {'one':1, 'two':2, 'three':3}\n",
        "print(a)\n",
        "\n",
        "# Method 2 - pass dict as an argument\n",
        "b = dict({'one':1, 'two':2, 'three':3})\n",
        "print(b)\n",
        "\n",
        "# Method 3 - from list of tuples:key/value pair\n",
        "c = dict([('one',1),('three',3),('two',2)])\n",
        "print(c)\n",
        "\n",
        "# Method 4 - Using keyword arguments - different way\n",
        "d = dict(one = 1, two = 2, three = 3)\n",
        "print(d)\n",
        "\n",
        "# Method 5 - combination of dictionary and keywords\n",
        "e = dict({'three':3,'one':1},two = 2)\n",
        "print(e)\n",
        "\n",
        "# Method 6 - zipping on lists as key/value pair\n",
        "f = dict(zip(['two','three','one'],[2,3,1]))\n",
        "print(f)\n",
        "\n",
        "print(a==b==c==d==e==f) # order does not matter while checking whether two dictionaries are equal/not"
      ],
      "metadata": {
        "colab": {
          "base_uri": "https://localhost:8080/"
        },
        "id": "-GOv90Kg3TFY",
        "outputId": "4862429d-986b-4f33-ca7a-42c6ec7d096f"
      },
      "execution_count": 10,
      "outputs": [
        {
          "output_type": "stream",
          "name": "stdout",
          "text": [
            "{'one': 1, 'two': 2, 'three': 3}\n",
            "{'one': 1, 'two': 2, 'three': 3}\n",
            "{'one': 1, 'three': 3, 'two': 2}\n",
            "{'one': 1, 'two': 2, 'three': 3}\n",
            "{'three': 3, 'one': 1, 'two': 2}\n",
            "{'two': 2, 'three': 3, 'one': 1}\n",
            "True\n"
          ]
        }
      ]
    },
    {
      "cell_type": "markdown",
      "source": [
        "# 9.Unique Keys"
      ],
      "metadata": {
        "id": "pb3arI445oYb"
      }
    },
    {
      "cell_type": "code",
      "source": [
        "# fromkeys() is used to remove duplicate keys and preserve the order\n",
        "# Only unique keys are kept in the dictionary\n",
        "\n",
        "a = [1,2,20,6,210,20,2,1]\n",
        "d = dict.fromkeys(a)\n",
        "print(d)\n",
        "\n",
        "c = dict.fromkeys(a,7)\n",
        "print(c)"
      ],
      "metadata": {
        "colab": {
          "base_uri": "https://localhost:8080/"
        },
        "id": "Zc1MQfl65xfV",
        "outputId": "32b8ed22-8884-4f6d-b071-f6e5bd5639a7"
      },
      "execution_count": 11,
      "outputs": [
        {
          "output_type": "stream",
          "name": "stdout",
          "text": [
            "{1: None, 2: None, 20: None, 6: None, 210: None}\n",
            "{1: 7, 2: 7, 20: 7, 6: 7, 210: 7}\n"
          ]
        }
      ]
    }
  ]
}