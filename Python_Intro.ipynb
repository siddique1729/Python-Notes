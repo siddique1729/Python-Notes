{
  "nbformat": 4,
  "nbformat_minor": 0,
  "metadata": {
    "colab": {
      "provenance": [],
      "toc_visible": true
    },
    "kernelspec": {
      "name": "python3",
      "display_name": "Python 3"
    },
    "language_info": {
      "name": "python"
    }
  },
  "cells": [
    {
      "cell_type": "markdown",
      "source": [
        "# 1.Introductory Basic Concepts"
      ],
      "metadata": {
        "id": "yUof3p3fYtmr"
      }
    },
    {
      "cell_type": "code",
      "source": [
        "# clearing variables in jupyter notebook: %reset\n",
        "a = 12\n",
        "# Commenting in python - single line(#), multiline('''   ''')\n",
        "# Errors - syntax, logical, indentation\n",
        "# Data types - int-1, float-1.1, char-'a', string-'abc'\n",
        "# Data structure types - list-[], tuple-(), dictionary-{key:value}, set-{}\n",
        "# Type conversions - int(12.12), float(12), str(12)\n",
        "# Basic functions - min, max, type, len \n",
        "# is: check if same memory/reference vs ==: check if equal value\n",
        "# Garbage collector in python"
      ],
      "metadata": {
        "id": "H_pYXdyAYvvd"
      },
      "execution_count": 1,
      "outputs": []
    },
    {
      "cell_type": "code",
      "source": [
        "a = 12\n",
        "b = 12\n",
        "print(a,b)\n",
        "print(id(a),id(b)) # Here, both a and b points to the same value and memory address. This is name binding.\n",
        "print(a is b, a==b)"
      ],
      "metadata": {
        "colab": {
          "base_uri": "https://localhost:8080/"
        },
        "id": "j_jx-qHdrt5D",
        "outputId": "a5993e6d-b9f1-4b18-ee6a-51903f2e3d47"
      },
      "execution_count": 3,
      "outputs": [
        {
          "output_type": "stream",
          "name": "stdout",
          "text": [
            "12 12\n",
            "9793440 9793440\n",
            "True True\n"
          ]
        }
      ]
    },
    {
      "cell_type": "markdown",
      "source": [
        "# 2.Input"
      ],
      "metadata": {
        "id": "nL6AxiTtY3Z6"
      }
    },
    {
      "cell_type": "code",
      "source": [
        "# Input in python\n",
        "\n",
        "aa = input() # take input as a string\n",
        "a = input().split(',',3) # split the string at commas, maximum split of 3 parts and will store the parts as a list\n",
        "# aaa,bbb,ccc = int(input().split()) # wrong syntax if we want to apply int type to multiple variables\n",
        "ab,bc = map(int, input().split()) # the same thing could be done using map as it will assign int type to all var\n",
        "lst_a = list(map(int, input().split())) # takes input a list of integers\n",
        "lst_b = [int(x) for x in input().split()] # taking input a list of integeres using list comprehension\n",
        "print()\n",
        "\n",
        "print(aa)\n",
        "print(a)\n",
        "print(ab,bc)\n",
        "print(lst_a)\n",
        "print(lst_b)"
      ],
      "metadata": {
        "colab": {
          "base_uri": "https://localhost:8080/"
        },
        "id": "wrepdK2MdhDZ",
        "outputId": "67c3643c-8444-460d-94cb-8cc2090f0e76"
      },
      "execution_count": 6,
      "outputs": [
        {
          "output_type": "stream",
          "name": "stdout",
          "text": [
            "11312313123\n",
            "12,4,1,2,3,4,5\n",
            "12 43\n",
            "12 2 2 2 2 2 14 4 5\n",
            "123 1323 123 123\n",
            "\n",
            "11312313123\n",
            "['12', '4', '1', '2,3,4,5']\n",
            "12 43\n",
            "[12, 2, 2, 2, 2, 2, 14, 4, 5]\n",
            "[123, 1323, 123, 123]\n"
          ]
        }
      ]
    },
    {
      "cell_type": "markdown",
      "source": [
        "# 3.Print"
      ],
      "metadata": {
        "id": "R-bULCqnY-W_"
      }
    },
    {
      "cell_type": "code",
      "source": [
        "# Printing in python\n",
        "\n",
        "l = [1,2,3]\n",
        "a,b = 34,67.9\n",
        "\n",
        "print(2,3,4, sep=\"-\", end=' ')\n",
        "print(34,56)\n",
        "print(l, *l)\n",
        "print('first number is {} and second number is {}'.format(a,b))\n",
        "print('Greeks:{aa:5d} and Portal:{bb:7.3f}'.format(aa=12,bb=54.12))\n",
        "print(f'The first number is {a} and the second number is {b}')\n",
        "print(f'The first number is {a:5d} and the second number is {b:5.4f}')\n",
        "print(\"hello new line\\nthen new tab\\tthen new single quatation using escape character\\'\")"
      ],
      "metadata": {
        "colab": {
          "base_uri": "https://localhost:8080/"
        },
        "id": "IW8WQXMR3EBj",
        "outputId": "afbccd50-2123-45e3-99a3-3f78b8482219"
      },
      "execution_count": 7,
      "outputs": [
        {
          "output_type": "stream",
          "name": "stdout",
          "text": [
            "2-3-4 34 56\n",
            "[1, 2, 3] 1 2 3\n",
            "first number is 34 and second number is 67.9\n",
            "Greeks:   12 and Portal: 54.120\n",
            "The first number is 34 and the second number is 67.9\n",
            "The first number is    34 and the second number is 67.9000\n",
            "hello new line\n",
            "then new tab\tthen new single quatation using escape character'\n"
          ]
        }
      ]
    },
    {
      "cell_type": "markdown",
      "source": [
        "# 4.Operators"
      ],
      "metadata": {
        "id": "ZTvpeiDUZDpt"
      }
    },
    {
      "cell_type": "code",
      "source": [
        "# Operators - 5 types\n",
        "# Arithmetic + - * / //\n",
        "# Assignment = a+=4 means a = a + 4\n",
        "# Boolean True False\n",
        "# Relational > < >= <= == !=\n",
        "# Logical and or not\n",
        "# Bitwise (later on)\n",
        "# Or returns first one that evaluates true and last one that evaluates false\n",
        "# And returns last one that evaluates true and first one that evaluates false\n",
        "\n",
        "a = True\n",
        "b = False\n",
        "print(True, False)\n",
        "print(int(a), int(b))"
      ],
      "metadata": {
        "colab": {
          "base_uri": "https://localhost:8080/"
        },
        "id": "SECCp1La5hDB",
        "outputId": "7e8db024-354b-49ed-bd31-39228242629d"
      },
      "execution_count": 8,
      "outputs": [
        {
          "output_type": "stream",
          "name": "stdout",
          "text": [
            "True False\n",
            "1 0\n"
          ]
        }
      ]
    },
    {
      "cell_type": "markdown",
      "source": [
        "# 5.ASCII Code"
      ],
      "metadata": {
        "id": "16WnOQDTZIKt"
      }
    },
    {
      "cell_type": "code",
      "source": [
        "# ASCII Code\n",
        "# (65-90) for (A-Z) & (97-122) for (a-z) & (48-57) for (0-9)\n",
        "\n",
        "a = ord('c')\n",
        "aa = chr(99) \n",
        "print(a,aa,type(a),type(aa))"
      ],
      "metadata": {
        "colab": {
          "base_uri": "https://localhost:8080/"
        },
        "id": "Gq71S18c6R9G",
        "outputId": "a52669c2-822b-43e6-bb30-89861cb6b124"
      },
      "execution_count": 9,
      "outputs": [
        {
          "output_type": "stream",
          "name": "stdout",
          "text": [
            "99 c <class 'int'> <class 'str'>\n"
          ]
        }
      ]
    },
    {
      "cell_type": "markdown",
      "source": [
        "# 6.Conditional & Control Statement"
      ],
      "metadata": {
        "id": "NhGd5u1-ZOqE"
      }
    },
    {
      "cell_type": "code",
      "source": [
        "# Conditional statement if,elif,else\n",
        "# Control statement for & while (break,continue)\n",
        "\n",
        "for i in range(5):\n",
        "  print(i, end=' ')\n",
        "\n",
        "print()\n",
        "\n",
        "for j in range(0,6,1):\n",
        "  print(j, end=' ')\n",
        "\n",
        "print('\\n')\n",
        "\n",
        "while(i > 0):\n",
        "  if i % 2 == 0:\n",
        "    print(f'{i} is even number')\n",
        "  else:\n",
        "    print(f'{i} is odd number')\n",
        "\n",
        "  i = i - 1"
      ],
      "metadata": {
        "colab": {
          "base_uri": "https://localhost:8080/"
        },
        "id": "vbQg2RsW7GxR",
        "outputId": "635f1cd0-4368-4b30-fd6c-eb9f03286e44"
      },
      "execution_count": 10,
      "outputs": [
        {
          "output_type": "stream",
          "name": "stdout",
          "text": [
            "0 1 2 3 4 \n",
            "0 1 2 3 4 5 \n",
            "\n",
            "4 is even number\n",
            "3 is odd number\n",
            "2 is even number\n",
            "1 is odd number\n"
          ]
        }
      ]
    },
    {
      "cell_type": "markdown",
      "source": [
        "# 7.Enumerate"
      ],
      "metadata": {
        "id": "4Cpe-6qbZVRk"
      }
    },
    {
      "cell_type": "code",
      "source": [
        "# Enumerate function - adds a counter to an iterable\n",
        "\n",
        "lst = [4,5,6,12,34,54]\n",
        "\n",
        "for idx, val in enumerate(lst):\n",
        "  item = idx, val\n",
        "  print(item)\n",
        "  print(idx,val)\n",
        "\n",
        "print()\n",
        "for idx, val in enumerate(range(10,16)):\n",
        "  item = idx, val\n",
        "  print(item)"
      ],
      "metadata": {
        "colab": {
          "base_uri": "https://localhost:8080/"
        },
        "id": "6p7G34EjvVva",
        "outputId": "3a66fa9e-b6f1-4a56-ca05-adcd0917bfdf"
      },
      "execution_count": 11,
      "outputs": [
        {
          "output_type": "stream",
          "name": "stdout",
          "text": [
            "(0, 4)\n",
            "0 4\n",
            "(1, 5)\n",
            "1 5\n",
            "(2, 6)\n",
            "2 6\n",
            "(3, 12)\n",
            "3 12\n",
            "(4, 34)\n",
            "4 34\n",
            "(5, 54)\n",
            "5 54\n",
            "\n",
            "(0, 10)\n",
            "(1, 11)\n",
            "(2, 12)\n",
            "(3, 13)\n",
            "(4, 14)\n",
            "(5, 15)\n"
          ]
        }
      ]
    },
    {
      "cell_type": "markdown",
      "source": [
        "# 8.Function"
      ],
      "metadata": {
        "id": "W6O2TJgnZZur"
      }
    },
    {
      "cell_type": "code",
      "source": [
        "# Concept of Function\n",
        "# Function Override\n",
        "# Local & Global scope - using global variables is a bad practice\n",
        "# Name binding - important concept\n",
        "# Namespaces - built-in, global, local, and enclosing\n",
        "# Function can call function"
      ],
      "metadata": {
        "id": "AaIzRc8EwUsE"
      },
      "execution_count": 12,
      "outputs": []
    },
    {
      "cell_type": "code",
      "source": [
        "# 1. Default arguments in function\n",
        "\n",
        "def my_sum(a,b,c=1,d=2):\n",
        "  return a+b+c+d\n",
        "\n",
        "result1 = my_sum(3,7)\n",
        "result2 = my_sum(1,2,3,4) # overrides the default values\n",
        "\n",
        "print(result1, result2)"
      ],
      "metadata": {
        "colab": {
          "base_uri": "https://localhost:8080/"
        },
        "id": "_-_5DLvcZxip",
        "outputId": "7fb289a6-1273-4fb6-e17b-06cf7573d1c3"
      },
      "execution_count": 13,
      "outputs": [
        {
          "output_type": "stream",
          "name": "stdout",
          "text": [
            "13 10\n"
          ]
        }
      ]
    },
    {
      "cell_type": "code",
      "source": [
        "# 2. Positional argument\n",
        "# All arguments before / must be specified by position\n",
        "\n",
        "def f3(x,/,y):\n",
        "  return x+y\n",
        "\n",
        "print(f3(1,y=2))\n",
        "print(f3(1,4))"
      ],
      "metadata": {
        "colab": {
          "base_uri": "https://localhost:8080/"
        },
        "id": "UuW6iUgxZ27t",
        "outputId": "d0420546-9ee1-471d-b47c-30f83c535701"
      },
      "execution_count": 14,
      "outputs": [
        {
          "output_type": "stream",
          "name": "stdout",
          "text": [
            "3\n",
            "5\n"
          ]
        }
      ]
    },
    {
      "cell_type": "code",
      "source": [
        "# 3. Keyword argument\n",
        "# All arguments before / must be specified by position\n",
        "\n",
        "def f3(x,*,y):\n",
        "  return x+y\n",
        "\n",
        "print(f3(6,y=7)) # 4\n",
        "print(f3(x=5,y=5)) # 5"
      ],
      "metadata": {
        "colab": {
          "base_uri": "https://localhost:8080/"
        },
        "id": "i8lrFmihZ7T2",
        "outputId": "14183dec-b280-4c3f-a50c-2b9bbd6593ef"
      },
      "execution_count": 15,
      "outputs": [
        {
          "output_type": "stream",
          "name": "stdout",
          "text": [
            "13\n",
            "10\n"
          ]
        }
      ]
    },
    {
      "cell_type": "code",
      "source": [
        "# Tuple packing\n",
        "\n",
        "def f():\n",
        "  return 1,2,3\n",
        "\n",
        "a,b,c = f()\n",
        "print(a,b,c) # 6\n",
        "\n",
        "together = f() # packing\n",
        "print(type(together)) # 7\n",
        "x,y,z = together # unpacking\n",
        "print(x,y,z) # 8"
      ],
      "metadata": {
        "colab": {
          "base_uri": "https://localhost:8080/"
        },
        "id": "ICm1wIQ5Z-Cl",
        "outputId": "c120ce64-d5e5-471f-d1f0-1ada4fa01f0a"
      },
      "execution_count": 16,
      "outputs": [
        {
          "output_type": "stream",
          "name": "stdout",
          "text": [
            "1 2 3\n",
            "<class 'tuple'>\n",
            "1 2 3\n"
          ]
        }
      ]
    },
    {
      "cell_type": "markdown",
      "source": [
        "# 9.Class"
      ],
      "metadata": {
        "id": "qBM-7GNFaAVD"
      }
    },
    {
      "cell_type": "code",
      "source": [
        "# Class in Python\n",
        "# Full code of python\n",
        "\n",
        "class FullName:\n",
        "  def __init__(self, first_name, last_name):\n",
        "    self.first_name = first_name\n",
        "    self.middle_name = None\n",
        "    self.last_name = last_name\n",
        "\n",
        "class Employee:\n",
        "  def __init__(self, first_name, last_name, salary, address):\n",
        "    self.fullname = FullName(first_name, last_name)\n",
        "    self.address = address\n",
        "    self.salary = salary\n",
        "\n",
        "  def print(self):\n",
        "    print('Employee Salary:', self.salary)\n",
        "    print('Employee Address:', self.address)\n",
        "\n",
        "mostafa = Employee('Ziad','Mostafa', 159, '55 BC')\n",
        "mostafa.print()\n",
        "\n"
      ],
      "metadata": {
        "colab": {
          "base_uri": "https://localhost:8080/"
        },
        "id": "SArOLytbzZ8O",
        "outputId": "cfb8a2e0-cdbe-47ce-c066-b755ab696a68"
      },
      "execution_count": 17,
      "outputs": [
        {
          "output_type": "stream",
          "name": "stdout",
          "text": [
            "Employee Salary: 159\n",
            "Employee Address: 55 BC\n"
          ]
        }
      ]
    }
  ]
}