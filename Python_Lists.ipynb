{
  "nbformat": 4,
  "nbformat_minor": 0,
  "metadata": {
    "colab": {
      "provenance": [],
      "toc_visible": true
    },
    "kernelspec": {
      "name": "python3",
      "display_name": "Python 3"
    },
    "language_info": {
      "name": "python"
    }
  },
  "cells": [
    {
      "cell_type": "markdown",
      "source": [
        "# 1.List intro, input and print"
      ],
      "metadata": {
        "id": "LtnDybSEFTix"
      }
    },
    {
      "cell_type": "markdown",
      "source": [],
      "metadata": {
        "id": "iEsaFRGHFL9w"
      }
    },
    {
      "cell_type": "code",
      "execution_count": 3,
      "metadata": {
        "colab": {
          "base_uri": "https://localhost:8080/"
        },
        "id": "kxbXkbppI3kG",
        "outputId": "6e732967-9f79-44da-950c-eec87ca4fcdc"
      },
      "outputs": [
        {
          "output_type": "stream",
          "name": "stdout",
          "text": [
            "1 2 3 4 5 6\n",
            "1 2 3 4 5 6\n",
            "[]\n",
            "['1', '2', '3', '4', '5', '6']\n",
            "[1, 2, 3, 4, 5, 6]\n",
            "['1', '2', '3', '4', '5', '6', 1, 2, 3, 4, 5, 6]\n",
            "2\n"
          ]
        }
      ],
      "source": [
        "my_list = []\n",
        "my_list1 = input().split()\n",
        "my_list2 = list(map(int, input().split()))\n",
        "\n",
        "print(my_list)\n",
        "print(my_list1)\n",
        "print(my_list2)\n",
        "print(my_list1 + my_list2)\n",
        "print(my_list2[1])"
      ]
    },
    {
      "cell_type": "markdown",
      "source": [
        "# 2.Changing list element & looping through list"
      ],
      "metadata": {
        "id": "ENrqFuMPFgQs"
      }
    },
    {
      "cell_type": "code",
      "source": [
        "# We can change the list element by my_list2[1] = 9, so 9 will replace 2 in the [1] position\n",
        "\n",
        "for item in my_list1:\n",
        "  print(item, end=' ')\n",
        "\n",
        "# Copying list\n",
        "\n",
        "print()\n",
        "print(my_list1)\n",
        "\n",
        "lstcop = my_list1.copy()\n",
        "print(lstcop)"
      ],
      "metadata": {
        "colab": {
          "base_uri": "https://localhost:8080/"
        },
        "id": "2CTeWt_BKIz1",
        "outputId": "05a60807-225c-45f6-d9a4-9e9a5dcd0c12"
      },
      "execution_count": 12,
      "outputs": [
        {
          "output_type": "stream",
          "name": "stdout",
          "text": [
            "1 2 3 4 5 6 \n",
            "['1', '2', '3', '4', '5', '6']\n",
            "['1', '2', '3', '4', '5', '6']\n"
          ]
        }
      ]
    },
    {
      "cell_type": "markdown",
      "source": [
        "# 3.Basic functions - min, max, sum, len"
      ],
      "metadata": {
        "id": "cLWjGIOFFn6D"
      }
    },
    {
      "cell_type": "code",
      "source": [
        "print(my_list2)\n",
        "print(min(my_list2), max(my_list2), sum(my_list2), len(my_list2))"
      ],
      "metadata": {
        "colab": {
          "base_uri": "https://localhost:8080/"
        },
        "id": "AE-1AfOp7TGs",
        "outputId": "80a0e63c-f35d-4702-fd7a-886ef56180c0"
      },
      "execution_count": 13,
      "outputs": [
        {
          "output_type": "stream",
          "name": "stdout",
          "text": [
            "[1, 2, 3, 4, 5, 6]\n",
            "1 6 21 6\n"
          ]
        }
      ]
    },
    {
      "cell_type": "markdown",
      "source": [
        "# 4.Sorting and reversing"
      ],
      "metadata": {
        "id": "QR2onyDMF19D"
      }
    },
    {
      "cell_type": "code",
      "source": [
        "my_list3 = [4,1,5,22,90,10,3]\n",
        "\n",
        "# sort is from small to big\n",
        "my_list3.sort()\n",
        "print(my_list3)"
      ],
      "metadata": {
        "colab": {
          "base_uri": "https://localhost:8080/"
        },
        "id": "iAQkAbI97255",
        "outputId": "8007e09c-d987-4bce-91b5-cd959c6a2a3a"
      },
      "execution_count": 14,
      "outputs": [
        {
          "output_type": "stream",
          "name": "stdout",
          "text": [
            "[1, 3, 4, 5, 10, 22, 90]\n"
          ]
        }
      ]
    },
    {
      "cell_type": "code",
      "source": [
        "my_list3.sort(reverse = True) # from big to small\n",
        "print(my_list3)"
      ],
      "metadata": {
        "colab": {
          "base_uri": "https://localhost:8080/"
        },
        "id": "TzP_Oheq-CCR",
        "outputId": "30bf77d7-05a5-4fe7-aeb5-8543bc7cd1b6"
      },
      "execution_count": 15,
      "outputs": [
        {
          "output_type": "stream",
          "name": "stdout",
          "text": [
            "[90, 22, 10, 5, 4, 3, 1]\n"
          ]
        }
      ]
    },
    {
      "cell_type": "code",
      "source": [
        "a = sorted(my_list3)\n",
        "print(a)"
      ],
      "metadata": {
        "colab": {
          "base_uri": "https://localhost:8080/"
        },
        "id": "qgQJUSLf-GGt",
        "outputId": "e55c23f4-aacf-4eeb-8616-41867aea8302"
      },
      "execution_count": 16,
      "outputs": [
        {
          "output_type": "stream",
          "name": "stdout",
          "text": [
            "[1, 3, 4, 5, 10, 22, 90]\n"
          ]
        }
      ]
    },
    {
      "cell_type": "code",
      "source": [
        "# reverse is used to reverse the list\n",
        "my_list4 = [1,3,4,5,90,22,31]\n",
        "my_list4.reverse()\n",
        "print(my_list4)"
      ],
      "metadata": {
        "colab": {
          "base_uri": "https://localhost:8080/"
        },
        "id": "URRtGzdb-I_x",
        "outputId": "7f38872e-f740-45be-c2ab-f858ca3a74aa"
      },
      "execution_count": 17,
      "outputs": [
        {
          "output_type": "stream",
          "name": "stdout",
          "text": [
            "[31, 22, 90, 5, 4, 3, 1]\n"
          ]
        }
      ]
    },
    {
      "cell_type": "code",
      "source": [
        "my_list = []\n",
        "my_list = my_list + ['Hey']\n",
        "my_list = my_list + list('Hey')\n",
        "print(my_list)"
      ],
      "metadata": {
        "colab": {
          "base_uri": "https://localhost:8080/"
        },
        "id": "AIw0paXt_maa",
        "outputId": "54a9e65f-5e79-4880-ea99-aac708f8848b"
      },
      "execution_count": 18,
      "outputs": [
        {
          "output_type": "stream",
          "name": "stdout",
          "text": [
            "['Hey', 'H', 'e', 'y']\n"
          ]
        }
      ]
    },
    {
      "cell_type": "markdown",
      "source": [
        "# 5.List methods"
      ],
      "metadata": {
        "id": "6Do1bSgdF9Tb"
      }
    },
    {
      "cell_type": "code",
      "source": [
        "my_list = [] # list creation"
      ],
      "metadata": {
        "id": "64i-dYALA3Vs"
      },
      "execution_count": 19,
      "outputs": []
    },
    {
      "cell_type": "code",
      "source": [
        "my_list.append('Hello') # adding an element to list\n",
        "print(my_list)"
      ],
      "metadata": {
        "colab": {
          "base_uri": "https://localhost:8080/"
        },
        "id": "_kP9GEb_BFE-",
        "outputId": "3062222f-3508-4ddc-ee6a-0d92ffe09bb9"
      },
      "execution_count": 20,
      "outputs": [
        {
          "output_type": "stream",
          "name": "stdout",
          "text": [
            "['Hello']\n"
          ]
        }
      ]
    },
    {
      "cell_type": "code",
      "source": [
        "my_list.extend([3,1]) # adding multiple elements to list\n",
        "print(my_list)"
      ],
      "metadata": {
        "colab": {
          "base_uri": "https://localhost:8080/"
        },
        "id": "FCduvQMtBKus",
        "outputId": "6f59bf24-f553-43af-9f1a-6644e3e78dbb"
      },
      "execution_count": 21,
      "outputs": [
        {
          "output_type": "stream",
          "name": "stdout",
          "text": [
            "['Hello', 3, 1]\n"
          ]
        }
      ]
    },
    {
      "cell_type": "code",
      "source": [
        "my_list.insert(2,'wow') # adding element 'wow' at the position [2]\n",
        "print(my_list)"
      ],
      "metadata": {
        "colab": {
          "base_uri": "https://localhost:8080/"
        },
        "id": "qMIIYYd7BVi8",
        "outputId": "10d084e8-6443-404c-c6b6-ba2c2fd965a5"
      },
      "execution_count": 22,
      "outputs": [
        {
          "output_type": "stream",
          "name": "stdout",
          "text": [
            "['Hello', 3, 'wow', 1]\n"
          ]
        }
      ]
    },
    {
      "cell_type": "code",
      "source": [
        "aa = my_list.index(3) # search and return the first matching index of the element\n",
        "print(aa, my_list)"
      ],
      "metadata": {
        "colab": {
          "base_uri": "https://localhost:8080/"
        },
        "id": "r3tI8cOsD3l1",
        "outputId": "11e621c0-3805-4704-8a97-2f36b47211c1"
      },
      "execution_count": 23,
      "outputs": [
        {
          "output_type": "stream",
          "name": "stdout",
          "text": [
            "1 ['Hello', 3, 'wow', 1]\n"
          ]
        }
      ]
    },
    {
      "cell_type": "code",
      "source": [
        "print(all(my_list)) # return true if all elements are true\n",
        "print(any([0]),any([]),any(['0']),any([1])) # return true if any element is true"
      ],
      "metadata": {
        "colab": {
          "base_uri": "https://localhost:8080/"
        },
        "id": "MPa4MSpnEQQL",
        "outputId": "54bf6776-2605-4d56-d920-7bc7fc213b4b"
      },
      "execution_count": 24,
      "outputs": [
        {
          "output_type": "stream",
          "name": "stdout",
          "text": [
            "True\n",
            "False False True True\n"
          ]
        }
      ]
    },
    {
      "cell_type": "code",
      "source": [
        "my_list.append('wow')\n",
        "print(my_list)\n",
        "my_list.remove('wow') # removes the first matching element\n",
        "print(my_list)"
      ],
      "metadata": {
        "colab": {
          "base_uri": "https://localhost:8080/"
        },
        "id": "tgWl1jgCBeRq",
        "outputId": "aa02703d-ab5c-4303-c920-3945b97086fb"
      },
      "execution_count": 25,
      "outputs": [
        {
          "output_type": "stream",
          "name": "stdout",
          "text": [
            "['Hello', 3, 'wow', 1, 'wow']\n",
            "['Hello', 3, 1, 'wow']\n"
          ]
        }
      ]
    },
    {
      "cell_type": "code",
      "source": [
        "aa = my_list.pop() # removes and returns the last element\n",
        "print(aa, my_list)"
      ],
      "metadata": {
        "colab": {
          "base_uri": "https://localhost:8080/"
        },
        "id": "vGTdC-a8BsCN",
        "outputId": "e83ff3ef-681b-4be9-8865-cb059b062661"
      },
      "execution_count": 26,
      "outputs": [
        {
          "output_type": "stream",
          "name": "stdout",
          "text": [
            "wow ['Hello', 3, 1]\n"
          ]
        }
      ]
    },
    {
      "cell_type": "code",
      "source": [
        "aa = my_list.pop(1) # removes and returns the [1] element\n",
        "print(aa, my_list)"
      ],
      "metadata": {
        "colab": {
          "base_uri": "https://localhost:8080/"
        },
        "id": "lAZ8au9tCNF6",
        "outputId": "b9fd50ed-19b3-43d7-d038-ed3cf5861481"
      },
      "execution_count": 27,
      "outputs": [
        {
          "output_type": "stream",
          "name": "stdout",
          "text": [
            "3 ['Hello', 1]\n"
          ]
        }
      ]
    },
    {
      "cell_type": "code",
      "source": [
        "del my_list[1] # removes element at [1] index\n",
        "print(my_list)"
      ],
      "metadata": {
        "colab": {
          "base_uri": "https://localhost:8080/"
        },
        "id": "wF_y0AowCWIf",
        "outputId": "030ecf81-307c-403a-ff8a-55e6cb1b9f54"
      },
      "execution_count": 28,
      "outputs": [
        {
          "output_type": "stream",
          "name": "stdout",
          "text": [
            "['Hello']\n"
          ]
        }
      ]
    },
    {
      "cell_type": "code",
      "source": [
        "my_list.clear() # clears all the elements in the list\n",
        "print(my_list)"
      ],
      "metadata": {
        "colab": {
          "base_uri": "https://localhost:8080/"
        },
        "id": "2B5s0t91CnM6",
        "outputId": "bb859b22-1423-4bc6-d9b4-18f283746362"
      },
      "execution_count": 29,
      "outputs": [
        {
          "output_type": "stream",
          "name": "stdout",
          "text": [
            "[]\n"
          ]
        }
      ]
    },
    {
      "cell_type": "markdown",
      "source": [
        "# 5.Enumerate using list"
      ],
      "metadata": {
        "id": "7l68d9PBGE6Y"
      }
    },
    {
      "cell_type": "code",
      "source": [
        "enum_list = [1,123,123,1,2,3,4]\n",
        "\n",
        "for idx,item in enumerate(enum_list):\n",
        "  print(idx, item)\n",
        "\n",
        "print()\n",
        "\n",
        "for tupitem in enumerate(enum_list):\n",
        "  print(tupitem)"
      ],
      "metadata": {
        "colab": {
          "base_uri": "https://localhost:8080/"
        },
        "id": "GPr-oHUYE7Rd",
        "outputId": "b0337a43-6250-44e6-9af6-d0ec7ff77007"
      },
      "execution_count": 30,
      "outputs": [
        {
          "output_type": "stream",
          "name": "stdout",
          "text": [
            "0 1\n",
            "1 123\n",
            "2 123\n",
            "3 1\n",
            "4 2\n",
            "5 3\n",
            "6 4\n",
            "\n",
            "(0, 1)\n",
            "(1, 123)\n",
            "(2, 123)\n",
            "(3, 1)\n",
            "(4, 2)\n",
            "(5, 3)\n",
            "(6, 4)\n"
          ]
        }
      ]
    },
    {
      "cell_type": "markdown",
      "source": [
        "# 6.Range & Slicing"
      ],
      "metadata": {
        "id": "USNtCms7Gnuw"
      }
    },
    {
      "cell_type": "code",
      "source": [
        "# Range\n",
        "\n",
        "print(range(5))\n",
        "print(range(0,6,1))\n",
        "print()\n",
        "# Slicing\n",
        "\n",
        "new_list = [1,2,3,4,5,6,7,8,9]\n",
        "idw_list = [0,1,2,3,4,5,6,7,8]\n",
        "\n",
        "# Extracting sub-list is known as slicing\n",
        "\n",
        "print(new_list[2:6])\n",
        "print(new_list[:6])\n",
        "print(new_list[0:])\n",
        "print(new_list[1:6:1])\n",
        "print(new_list[7:1:-1])\n",
        "print(new_list[:0:-1])\n",
        "print(new_list[:])\n",
        "print(new_list[::])\n",
        "print(new_list[0:6:])\n",
        "print(new_list[7::])\n",
        "print(new_list[7::-1])"
      ],
      "metadata": {
        "colab": {
          "base_uri": "https://localhost:8080/"
        },
        "id": "-X7SsfFbGrjh",
        "outputId": "8e47982e-04e2-4043-bb32-86c59968ba5b"
      },
      "execution_count": 31,
      "outputs": [
        {
          "output_type": "stream",
          "name": "stdout",
          "text": [
            "range(0, 5)\n",
            "range(0, 6)\n",
            "\n",
            "[3, 4, 5, 6]\n",
            "[1, 2, 3, 4, 5, 6]\n",
            "[1, 2, 3, 4, 5, 6, 7, 8, 9]\n",
            "[2, 3, 4, 5, 6]\n",
            "[8, 7, 6, 5, 4, 3]\n",
            "[9, 8, 7, 6, 5, 4, 3, 2]\n",
            "[1, 2, 3, 4, 5, 6, 7, 8, 9]\n",
            "[1, 2, 3, 4, 5, 6, 7, 8, 9]\n",
            "[1, 2, 3, 4, 5, 6]\n",
            "[8, 9]\n",
            "[8, 7, 6, 5, 4, 3, 2, 1]\n"
          ]
        }
      ]
    },
    {
      "cell_type": "markdown",
      "source": [
        "# 7.List Comprehension"
      ],
      "metadata": {
        "id": "i3Uv1bI_I5B7"
      }
    },
    {
      "cell_type": "code",
      "source": [
        "# new_list = [expression for member in iterable for condition in iterable]\n",
        "\n",
        "lst1 = [1,2,3,-4,5,-6,7,9]\n",
        "lst3 = [n if n>0 else -n for n in lst1 if n%2==0]\n",
        "print(lst3)\n",
        "\n",
        "# The condition after iterable applies while taking in elements from the iterable\n",
        "# The condition before iterable applies on the taken out elements from the iterable"
      ],
      "metadata": {
        "colab": {
          "base_uri": "https://localhost:8080/"
        },
        "id": "wJyjgQErJCEv",
        "outputId": "25203907-99b5-4bf8-98ff-2e0cd50d7e57"
      },
      "execution_count": 32,
      "outputs": [
        {
          "output_type": "stream",
          "name": "stdout",
          "text": [
            "[2, 4, 6]\n"
          ]
        }
      ]
    },
    {
      "cell_type": "code",
      "source": [
        "# More examples of list comprehension\n",
        "\n",
        "lst11 = [i+i for i in lst1]\n",
        "print(lst11)\n",
        "lst22 = [n for n in lst1 if n>0]\n",
        "print(lst22)"
      ],
      "metadata": {
        "colab": {
          "base_uri": "https://localhost:8080/"
        },
        "id": "tzPqEatBQXy5",
        "outputId": "bffaac15-2eb8-44e2-f137-3d5b504d8d91"
      },
      "execution_count": 33,
      "outputs": [
        {
          "output_type": "stream",
          "name": "stdout",
          "text": [
            "[2, 4, 6, -8, 10, -12, 14, 18]\n",
            "[1, 2, 3, 5, 7, 9]\n"
          ]
        }
      ]
    }
  ]
}