{
  "nbformat": 4,
  "nbformat_minor": 0,
  "metadata": {
    "colab": {
      "provenance": [],
      "toc_visible": true
    },
    "kernelspec": {
      "name": "python3",
      "display_name": "Python 3"
    },
    "language_info": {
      "name": "python"
    }
  },
  "cells": [
    {
      "cell_type": "markdown",
      "source": [
        "# 1.Introduction"
      ],
      "metadata": {
        "id": "Kze_1nXn663M"
      }
    },
    {
      "cell_type": "code",
      "source": [
        "# Set is unondered and does not preserve the insertion order\n",
        "# The duplicate elements are removed from the set\n",
        "# Once a set is created, its items cannot be changed, but you can add new items\n",
        "# Items can be accessed by loop\n",
        "# Basic functions include min,max,len,sort,all,any\n",
        "\n",
        "st = {7,11,1,2,3,4,1,2,4,5,6}\n",
        "print(st)\n",
        "\n",
        "# Adding elements\n",
        "st1 = set()\n",
        "st1.add(10)\n",
        "st1.add(20)\n",
        "print(st1)\n",
        "\n",
        "# Unordered - no guarantee of order\n",
        "for i in st:\n",
        "  print(i,end=' ')"
      ],
      "metadata": {
        "colab": {
          "base_uri": "https://localhost:8080/"
        },
        "id": "zzUtpOXq6_4X",
        "outputId": "46acb95e-9608-487e-9443-b6203f8a3824"
      },
      "execution_count": 1,
      "outputs": [
        {
          "output_type": "stream",
          "name": "stdout",
          "text": [
            "{1, 2, 3, 4, 5, 6, 7, 11}\n",
            "{10, 20}\n",
            "1 2 3 4 5 6 7 11 "
          ]
        }
      ]
    },
    {
      "cell_type": "code",
      "source": [
        "# Set takes int,float,list,string,tuple,dictionary as single argument elements\n",
        "\n",
        "st2 = set([1,2,3])\n",
        "st3 = set('erwr')\n",
        "st4 = set((1,2,3))\n",
        "st5 = set({1:1,2:3})\n",
        "\n",
        "\n",
        "#st1 = {[1,2,3]} - it will give error as unhashable\n",
        "#st1 = set(1,2,3.5,'asdasd',(1,2,3)) # error because it can take only 1 argument\n",
        "#st1 = {1,2,3.5,'asdasd',(1,2,3), {1:2,3:4},[1,2,3]} # error because mutables are there\n",
        "\n",
        "stt = {1,2,3.5,'asdasd',(1,2,3)} # only immutables are accepted together - int,float,string,tuple\n",
        "\n",
        "print(st2,st3,st4,st5)\n",
        "print(stt)"
      ],
      "metadata": {
        "colab": {
          "base_uri": "https://localhost:8080/"
        },
        "id": "qpDBkHgvAvWo",
        "outputId": "cfa1e8b9-49b4-4061-fe4f-1a6f27a3c94c"
      },
      "execution_count": 2,
      "outputs": [
        {
          "output_type": "stream",
          "name": "stdout",
          "text": [
            "{1, 2, 3} {'w', 'e', 'r'} {1, 2, 3} {1, 2}\n",
            "{1, 2, 3.5, (1, 2, 3), 'asdasd'}\n"
          ]
        }
      ]
    },
    {
      "cell_type": "markdown",
      "source": [
        "# 2.Methods"
      ],
      "metadata": {
        "id": "1fkvS4DVE9wB"
      }
    },
    {
      "cell_type": "code",
      "source": [
        "st1 = {1,3,5,7,9,10}\n",
        "\n",
        "st1.add(-20)\n",
        "st1.remove(10) # will give error if does not exist\n",
        "st1.discard(55) # will not give error if does not exist\n",
        "a = st1.pop() # removes random element\n",
        "\n",
        "print(st1,a)\n",
        "\n",
        "st1.clear()\n",
        "print(st1)"
      ],
      "metadata": {
        "colab": {
          "base_uri": "https://localhost:8080/"
        },
        "id": "QGj4YyoSFAnc",
        "outputId": "e193a463-5f40-4cfd-bb64-64b605a0ae0f"
      },
      "execution_count": 3,
      "outputs": [
        {
          "output_type": "stream",
          "name": "stdout",
          "text": [
            "{3, 5, 7, 9, -20} 1\n",
            "set()\n"
          ]
        }
      ]
    },
    {
      "cell_type": "markdown",
      "source": [
        "# 3.Comprehension"
      ],
      "metadata": {
        "id": "uyFh2A_iFjXl"
      }
    },
    {
      "cell_type": "code",
      "source": [
        "line = 'My name is Jawwad Shadman Siddique'\n",
        "\n",
        "unique_vowels = {i for i in line if i in 'aeiou'}\n",
        "print(unique_vowels)"
      ],
      "metadata": {
        "colab": {
          "base_uri": "https://localhost:8080/"
        },
        "id": "2NlDjICkFtR0",
        "outputId": "1369d058-8aae-4743-8923-fca932e54073"
      },
      "execution_count": 4,
      "outputs": [
        {
          "output_type": "stream",
          "name": "stdout",
          "text": [
            "{'a', 'e', 'u', 'i'}\n"
          ]
        }
      ]
    },
    {
      "cell_type": "markdown",
      "source": [
        "# 4.Union & Intersection"
      ],
      "metadata": {
        "id": "3XIm1xHBGGB5"
      }
    },
    {
      "cell_type": "code",
      "source": [
        "# Union includes all the elements in both the sets\n",
        "\n",
        "s1 = {1,5,7,9}\n",
        "s2 = {1,5,3,10}\n",
        "\n",
        "print(s1|s2)\n",
        "print(s1.union(s2))"
      ],
      "metadata": {
        "colab": {
          "base_uri": "https://localhost:8080/"
        },
        "id": "L_Z4Jw2INBPH",
        "outputId": "da4ffb44-5a69-4dd0-eee8-accd9afc8527"
      },
      "execution_count": 5,
      "outputs": [
        {
          "output_type": "stream",
          "name": "stdout",
          "text": [
            "{1, 3, 5, 7, 9, 10}\n",
            "{1, 3, 5, 7, 9, 10}\n"
          ]
        }
      ]
    },
    {
      "cell_type": "code",
      "source": [
        "# Intersection includes all the elements common to both the sets\n",
        "\n",
        "s1 = {1,5,7,9}\n",
        "s2 = {1,5,3,10}\n",
        "\n",
        "print(s1&s2)\n",
        "print(s1.intersection(s2))"
      ],
      "metadata": {
        "colab": {
          "base_uri": "https://localhost:8080/"
        },
        "id": "RN0rPzQYNYta",
        "outputId": "e3cbd272-bb11-44ac-9ad9-4a0bef5295cf"
      },
      "execution_count": 6,
      "outputs": [
        {
          "output_type": "stream",
          "name": "stdout",
          "text": [
            "{1, 5}\n",
            "{1, 5}\n"
          ]
        }
      ]
    },
    {
      "cell_type": "code",
      "source": [
        "# Disjoint - returns true if there are not intersection\n",
        "\n",
        "s1 = {1,5,7,9}\n",
        "s2 = {1,5,3,10}\n",
        "\n",
        "print(s1.isdisjoint(s2))\n",
        "print(s1.isdisjoint([4,6]))"
      ],
      "metadata": {
        "colab": {
          "base_uri": "https://localhost:8080/"
        },
        "id": "abBy-h0VNe2E",
        "outputId": "2dca479e-0da4-4662-97e2-80a2465fb7a9"
      },
      "execution_count": 7,
      "outputs": [
        {
          "output_type": "stream",
          "name": "stdout",
          "text": [
            "False\n",
            "True\n"
          ]
        }
      ]
    },
    {
      "cell_type": "markdown",
      "source": [
        "# 5.Difference"
      ],
      "metadata": {
        "id": "NaHrbYC2N25m"
      }
    },
    {
      "cell_type": "code",
      "source": [
        "s1 = {1,5,7,9}\n",
        "s2 = {1,5,3,10}\n",
        "\n",
        "# Return the set of all elements that are in s1 but not in s2\n",
        "print(s1-s2)\n",
        "print(s1.difference(s2))\n",
        "\n",
        "# Return the set of all elements in either s1 or s2 but not in both\n",
        "print(s1^s2)\n",
        "print(s1.symmetric_difference(s2))"
      ],
      "metadata": {
        "colab": {
          "base_uri": "https://localhost:8080/"
        },
        "id": "kkNzeXHUN6Rv",
        "outputId": "a7010b6d-3b4f-4f6c-9bb6-c21aeb6826c9"
      },
      "execution_count": 8,
      "outputs": [
        {
          "output_type": "stream",
          "name": "stdout",
          "text": [
            "{9, 7}\n",
            "{9, 7}\n",
            "{3, 7, 9, 10}\n",
            "{3, 7, 9, 10}\n"
          ]
        }
      ]
    },
    {
      "cell_type": "markdown",
      "source": [
        "# 6.Subset & Superset"
      ],
      "metadata": {
        "id": "OzJgOq5ROecl"
      }
    },
    {
      "cell_type": "code",
      "source": [
        "# Subset - true if every element of s1 is in s2\n",
        "\n",
        "s1 = {1,5}\n",
        "s2 = {2,1,5,3}\n",
        "\n",
        "print(s1<=s2)\n",
        "print(s1.issubset(s2))"
      ],
      "metadata": {
        "colab": {
          "base_uri": "https://localhost:8080/"
        },
        "id": "_CpOuYAyOhff",
        "outputId": "473862bc-68d8-4bc4-d539-d02c0256711b"
      },
      "execution_count": 9,
      "outputs": [
        {
          "output_type": "stream",
          "name": "stdout",
          "text": [
            "True\n",
            "True\n"
          ]
        }
      ]
    },
    {
      "cell_type": "code",
      "source": [
        "# Superset - if every element of s1 is in s2 but not equal\n",
        "\n",
        "s1 = {1,5}\n",
        "s2 = {2,1,5,3}\n",
        "s3 = {5,1}\n",
        "\n",
        "print(s1<s2)\n",
        "print(s1.issuperset(s2))\n",
        "print(s1.issuperset(s3))\n",
        "print(s2.issuperset(s1))\n",
        "print(s2>s3)\n",
        "print(s1<=s2)\n",
        "print(s2>=s1)"
      ],
      "metadata": {
        "colab": {
          "base_uri": "https://localhost:8080/"
        },
        "id": "R8I_xnMqPaaF",
        "outputId": "6643dbde-cdad-4676-ba59-d9ca63264cd6"
      },
      "execution_count": 10,
      "outputs": [
        {
          "output_type": "stream",
          "name": "stdout",
          "text": [
            "True\n",
            "False\n",
            "True\n",
            "True\n",
            "True\n",
            "True\n",
            "True\n"
          ]
        }
      ]
    },
    {
      "cell_type": "markdown",
      "source": [
        "# 7.Update"
      ],
      "metadata": {
        "id": "BB5na93rQg-q"
      }
    },
    {
      "cell_type": "code",
      "source": [
        "# Updates and stores in the same set\n",
        "\n",
        "s1 = {1,5,7,4}\n",
        "s2 = {1,5,3,10}\n",
        "\n",
        "s1 |= s2 # union and update s1, same for intersection(&) and difference(-,^)\n",
        "print(s1)"
      ],
      "metadata": {
        "colab": {
          "base_uri": "https://localhost:8080/"
        },
        "id": "NoKDchiiQju3",
        "outputId": "e9cf7fca-da24-4da8-daae-70af6ca9bb2a"
      },
      "execution_count": 11,
      "outputs": [
        {
          "output_type": "stream",
          "name": "stdout",
          "text": [
            "{1, 3, 4, 5, 7, 10}\n"
          ]
        }
      ]
    },
    {
      "cell_type": "markdown",
      "source": [
        "# 8.Frozenset"
      ],
      "metadata": {
        "id": "doqzpQ25RJJJ"
      }
    },
    {
      "cell_type": "code",
      "source": [
        "# Required for an immutable set\n",
        "\n",
        "set1 = frozenset([1,5,7,9,1])\n",
        "print(set1)\n",
        "\n",
        "# Example: Required immutable as a key in dictionary\n",
        "\n",
        "dct = {set1:5}\n",
        "\n",
        "for key,value in dct.items():\n",
        "  for elem in key:\n",
        "    print(elem,end=\" \")"
      ],
      "metadata": {
        "colab": {
          "base_uri": "https://localhost:8080/"
        },
        "id": "so-LY6knRVYi",
        "outputId": "cca999db-924f-4786-fb1c-5fbc85ff28e2"
      },
      "execution_count": 12,
      "outputs": [
        {
          "output_type": "stream",
          "name": "stdout",
          "text": [
            "frozenset({1, 5, 9, 7})\n",
            "1 5 9 7 "
          ]
        }
      ]
    }
  ]
}