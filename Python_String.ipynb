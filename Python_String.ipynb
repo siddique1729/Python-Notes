{
  "nbformat": 4,
  "nbformat_minor": 0,
  "metadata": {
    "colab": {
      "provenance": [],
      "toc_visible": true
    },
    "kernelspec": {
      "name": "python3",
      "display_name": "Python 3"
    },
    "language_info": {
      "name": "python"
    }
  },
  "cells": [
    {
      "cell_type": "markdown",
      "source": [
        "# 1.Intro,Input & Output"
      ],
      "metadata": {
        "id": "ha5t6hZGC_Fk"
      }
    },
    {
      "cell_type": "code",
      "source": [
        "# Input, print, addition, multiplication\n",
        "\n",
        "s1 = input()\n",
        "s2 = input()\n",
        "\n",
        "s3 = s1+s2*3\n",
        "\n",
        "print(s1)\n",
        "print(s2)\n",
        "print(s3)"
      ],
      "metadata": {
        "colab": {
          "base_uri": "https://localhost:8080/"
        },
        "id": "RMpfZpNcETxJ",
        "outputId": "516efd2a-4ae7-440d-fe06-984c2d58b0bb"
      },
      "execution_count": 1,
      "outputs": [
        {
          "output_type": "stream",
          "name": "stdout",
          "text": [
            "hello\n",
            "test\n",
            "hello\n",
            "test\n",
            "hellotesttesttest\n"
          ]
        }
      ]
    },
    {
      "cell_type": "code",
      "source": [
        "# String to list\n",
        "\n",
        "str_lst = list(s1)\n",
        "\n",
        "print(str_lst)\n",
        "print(str_lst[1])\n",
        "\n",
        "for idx, item in enumerate(str_lst):\n",
        "  print(idx, item)"
      ],
      "metadata": {
        "colab": {
          "base_uri": "https://localhost:8080/"
        },
        "id": "z1JGkaBOEtuC",
        "outputId": "4f1a9aca-fa4d-4350-f485-0c5b127c6eca"
      },
      "execution_count": 2,
      "outputs": [
        {
          "output_type": "stream",
          "name": "stdout",
          "text": [
            "['h', 'e', 'l', 'l', 'o']\n",
            "e\n",
            "0 h\n",
            "1 e\n",
            "2 l\n",
            "3 l\n",
            "4 o\n"
          ]
        }
      ]
    },
    {
      "cell_type": "markdown",
      "source": [
        "# 2.Basic Functions"
      ],
      "metadata": {
        "id": "GzPMUGaGGIqG"
      }
    },
    {
      "cell_type": "code",
      "source": [
        "# Basic Functions - len,max,min,sort,conversion(tuple,list)\n",
        "\n",
        "s1 = 'moST'\n",
        "\n",
        "print(len(s1),max(s1),min(s1))\n",
        "print(sorted(s1)) # outputs a list\n",
        "print(tuple(sorted(s1))) # converts into tuple"
      ],
      "metadata": {
        "colab": {
          "base_uri": "https://localhost:8080/"
        },
        "id": "607Z9_fPFJdT",
        "outputId": "f27968cd-2341-4ae8-a09a-915717c1d424"
      },
      "execution_count": 3,
      "outputs": [
        {
          "output_type": "stream",
          "name": "stdout",
          "text": [
            "4 o S\n",
            "['S', 'T', 'm', 'o']\n",
            "('S', 'T', 'm', 'o')\n"
          ]
        }
      ]
    },
    {
      "cell_type": "markdown",
      "source": [
        "# 3.Indexing & Slicing"
      ],
      "metadata": {
        "id": "XN2Xi3vuGPK0"
      }
    },
    {
      "cell_type": "code",
      "source": [
        "s1 = 'moST'\n",
        "\n",
        "print(s1[0], s1[-1], s1[1:])\n",
        "print(s1[:])\n",
        "print(s1[::-1])\n",
        "\n",
        "# Typerror: s1[0] = 'C' | del s1[0] | Items cannot be changed, added or deleted in a string\n",
        "# In order to do so we might need to add another string or convert it to a list"
      ],
      "metadata": {
        "colab": {
          "base_uri": "https://localhost:8080/"
        },
        "id": "QGOhC1OfGTxg",
        "outputId": "13480a53-f3f0-407f-a960-bea411ac2ca8"
      },
      "execution_count": 4,
      "outputs": [
        {
          "output_type": "stream",
          "name": "stdout",
          "text": [
            "m T oST\n",
            "moST\n",
            "TSom\n"
          ]
        }
      ]
    },
    {
      "cell_type": "markdown",
      "source": [
        "# 4.Immutability"
      ],
      "metadata": {
        "id": "Ht8Y6BdeHSB0"
      }
    },
    {
      "cell_type": "code",
      "source": [
        "# Item assignment/adding new element/changing a string element\n",
        "\n",
        "stitem = 'Hello' # suppose we want to replace 'e' with 'k'\n",
        "stitem = stitem[:1] + 'k' + stitem[1:] # We notice the index at which the change will be made\n",
        "print(stitem)\n",
        "\n",
        "# We can also do this converting it into list\n",
        "\n",
        "stitem = 'Hello'\n",
        "stitem = list(stitem)\n",
        "stitem[1] = 'k'\n",
        "print(stitem)\n",
        "\n",
        "# If we want to convert the list into a string then we use join function (explained later on)"
      ],
      "metadata": {
        "colab": {
          "base_uri": "https://localhost:8080/"
        },
        "id": "uUYitHOPHVcJ",
        "outputId": "18c979d2-7577-4c9b-a10d-c0f030469a1f"
      },
      "execution_count": 9,
      "outputs": [
        {
          "output_type": "stream",
          "name": "stdout",
          "text": [
            "Hkello\n",
            "['H', 'k', 'l', 'l', 'o']\n"
          ]
        }
      ]
    },
    {
      "cell_type": "markdown",
      "source": [
        "# 5.List Comprehension on String"
      ],
      "metadata": {
        "id": "fJ2CWialJTbJ"
      }
    },
    {
      "cell_type": "code",
      "source": [
        "# Example 1\n",
        "\n",
        "lst = ['Hello', 'World', 'Python', 'Is', 'Cool']\n",
        "first_letters = [first[0] for first in lst]\n",
        "print(first_letters)"
      ],
      "metadata": {
        "colab": {
          "base_uri": "https://localhost:8080/"
        },
        "id": "QHn10KgEJXu3",
        "outputId": "c53bd7d9-08ca-4cf5-f3e9-be1db3bb647e"
      },
      "execution_count": 10,
      "outputs": [
        {
          "output_type": "stream",
          "name": "stdout",
          "text": [
            "['H', 'W', 'P', 'I', 'C']\n"
          ]
        }
      ]
    },
    {
      "cell_type": "code",
      "source": [
        "# Example 2\n",
        "\n",
        "small_first = [word[0].lower() for word in lst]\n",
        "print(small_first)"
      ],
      "metadata": {
        "colab": {
          "base_uri": "https://localhost:8080/"
        },
        "id": "xK7QnrNQJpHo",
        "outputId": "24b93a81-0dea-407a-c731-246b7daa8fc4"
      },
      "execution_count": 12,
      "outputs": [
        {
          "output_type": "stream",
          "name": "stdout",
          "text": [
            "['h', 'w', 'p', 'i', 'c']\n"
          ]
        }
      ]
    },
    {
      "cell_type": "code",
      "source": [
        "# Example 3\n",
        "\n",
        "my_str = 'Pleas 10 finds 124all dig0t9'\n",
        "\n",
        "digit = [int(digword) for digword in my_str if digword.isdigit()]\n",
        "print(digit)"
      ],
      "metadata": {
        "colab": {
          "base_uri": "https://localhost:8080/"
        },
        "id": "6IDhcY7iKnXK",
        "outputId": "66d17ff0-e016-45a7-b1a0-501053683707"
      },
      "execution_count": 13,
      "outputs": [
        {
          "output_type": "stream",
          "name": "stdout",
          "text": [
            "[1, 0, 1, 2, 4, 0, 9]\n"
          ]
        }
      ]
    },
    {
      "cell_type": "markdown",
      "source": [
        "# 6.Basic String Methods"
      ],
      "metadata": {
        "id": "TBnY78DQMKEf"
      }
    },
    {
      "cell_type": "code",
      "source": [
        "# converts all the characters to lower/upper\n",
        "\n",
        "print('abcDEF'.lower())\n",
        "print('abcDEF'.upper())"
      ],
      "metadata": {
        "colab": {
          "base_uri": "https://localhost:8080/"
        },
        "id": "mlYspUFhMN7C",
        "outputId": "dd57f8ea-54b5-45c8-89e3-9f705816ed36"
      },
      "execution_count": 14,
      "outputs": [
        {
          "output_type": "stream",
          "name": "stdout",
          "text": [
            "abcdef\n",
            "ABCDEF\n"
          ]
        }
      ]
    },
    {
      "cell_type": "code",
      "source": [
        "# checks if all the characters are lower/upper\n",
        "\n",
        "print('abc'.islower())\n",
        "print('ABC'.isupper())\n",
        "print('sgB'.isupper())\n",
        "print('sgB'.islower())"
      ],
      "metadata": {
        "colab": {
          "base_uri": "https://localhost:8080/"
        },
        "id": "ewBdPux4NSk6",
        "outputId": "67faf419-81c7-44b2-ad93-436b42388b8f"
      },
      "execution_count": 15,
      "outputs": [
        {
          "output_type": "stream",
          "name": "stdout",
          "text": [
            "True\n",
            "True\n",
            "False\n",
            "False\n"
          ]
        }
      ]
    },
    {
      "cell_type": "code",
      "source": [
        "# checks if all the characters are from 0 to 9\n",
        "print('123'.isdecimal())"
      ],
      "metadata": {
        "colab": {
          "base_uri": "https://localhost:8080/"
        },
        "id": "eZStG6X5NWbS",
        "outputId": "a9fc732a-ab0d-4951-d567-323aa29fce08"
      },
      "execution_count": 16,
      "outputs": [
        {
          "output_type": "stream",
          "name": "stdout",
          "text": [
            "True\n"
          ]
        }
      ]
    },
    {
      "cell_type": "code",
      "source": [
        "# checks the staring/ending portion\n",
        "\n",
        "print('abcdefgh'.startswith('abc'))\n",
        "print('abcdefgh'.endswith('fgh'))"
      ],
      "metadata": {
        "colab": {
          "base_uri": "https://localhost:8080/"
        },
        "id": "Tmi4XWM0NasN",
        "outputId": "d02582b8-a6c1-475b-bf74-14d50e0025d6"
      },
      "execution_count": 17,
      "outputs": [
        {
          "output_type": "stream",
          "name": "stdout",
          "text": [
            "True\n",
            "True\n"
          ]
        }
      ]
    },
    {
      "cell_type": "code",
      "source": [
        "# Counting the number of occurrences of an element\n",
        "\n",
        "print('hihihihihi'.count('hi'))"
      ],
      "metadata": {
        "colab": {
          "base_uri": "https://localhost:8080/"
        },
        "id": "AOR3xmxWNhGM",
        "outputId": "778f52c0-6b4c-40a2-9c30-4a39b0088ab5"
      },
      "execution_count": 18,
      "outputs": [
        {
          "output_type": "stream",
          "name": "stdout",
          "text": [
            "5\n"
          ]
        }
      ]
    },
    {
      "cell_type": "code",
      "source": [
        "# Finding an element/substring\n",
        "\n",
        "print('abcdabcd'.find('bc')) # lowest index from where it starts\n",
        "print('abcdabcd'.rfind('bc')) # highest index from where it starts\n",
        "\n",
        "print('abcdabcd'.find('12')) # -1 if it does not exist\n",
        "print('abcdabcd'.rfind('12')) # -1 if it does not exist"
      ],
      "metadata": {
        "colab": {
          "base_uri": "https://localhost:8080/"
        },
        "id": "yNJk5WdiNuty",
        "outputId": "b25b9de3-0936-4274-bc14-90bf12ead28a"
      },
      "execution_count": 19,
      "outputs": [
        {
          "output_type": "stream",
          "name": "stdout",
          "text": [
            "1\n",
            "5\n",
            "-1\n",
            "-1\n"
          ]
        }
      ]
    },
    {
      "cell_type": "markdown",
      "source": [
        "# 7.Spaces & Strip"
      ],
      "metadata": {
        "id": "WxMPZh0COcD5"
      }
    },
    {
      "cell_type": "code",
      "source": [
        "# ' ' '\\n' '\\t' - are all considered as spaces\n",
        "\n",
        "print(''.isspace())\n",
        "print(' '.isspace())\n",
        "print('\\n'.isspace())\n",
        "print('\\t'.isspace())"
      ],
      "metadata": {
        "colab": {
          "base_uri": "https://localhost:8080/"
        },
        "id": "kcw2DCBNOf9_",
        "outputId": "0852ebf3-d58e-4a87-b383-0568e57a0d84"
      },
      "execution_count": 20,
      "outputs": [
        {
          "output_type": "stream",
          "name": "stdout",
          "text": [
            "False\n",
            "True\n",
            "True\n",
            "True\n"
          ]
        }
      ]
    },
    {
      "cell_type": "code",
      "source": [
        "# Strip() function strips of all the spaces in a string\n",
        "\n",
        "print('\\n\\tHello    \\t'.strip())"
      ],
      "metadata": {
        "colab": {
          "base_uri": "https://localhost:8080/"
        },
        "id": "w7acCYUgO27r",
        "outputId": "beb9f4b0-77fc-4ac8-b1d9-830f4339273e"
      },
      "execution_count": 21,
      "outputs": [
        {
          "output_type": "stream",
          "name": "stdout",
          "text": [
            "Hello\n"
          ]
        }
      ]
    },
    {
      "cell_type": "markdown",
      "source": [
        "# 8.Split Method"
      ],
      "metadata": {
        "id": "YHwfnFGHQLpa"
      }
    },
    {
      "cell_type": "code",
      "source": [
        "# Splits the string at the designated points. By default it is empty space.\n",
        "\n",
        "print('Hello this is a string'.split())\n",
        "print('Hello, this, is a, string'.split(','))\n",
        "print('Helloowerweurguiwerewqorj'.split('o'))\n",
        "lst = 'qw'\n",
        "print('qwrtteqwtrterqwtrqwtyytt'.split(lst))"
      ],
      "metadata": {
        "colab": {
          "base_uri": "https://localhost:8080/"
        },
        "id": "6Qy4XTCUQRTp",
        "outputId": "89775830-b8f5-4fbe-85fe-c0b443bc134e"
      },
      "execution_count": 22,
      "outputs": [
        {
          "output_type": "stream",
          "name": "stdout",
          "text": [
            "['Hello', 'this', 'is', 'a', 'string']\n",
            "['Hello', ' this', ' is a', ' string']\n",
            "['Hell', '', 'werweurguiwerewq', 'rj']\n",
            "['', 'rtte', 'trter', 'tr', 'tyytt']\n"
          ]
        }
      ]
    },
    {
      "cell_type": "code",
      "source": [
        "# Few more examples\n",
        "\n",
        "print('\\n\\n\\n\\they hey mostofa'.split())\n",
        "print('\\n\\n\\n\\they hey mostofa'.split(' '))\n",
        "print('\\n\\n\\n\\they hey mostofa'.split('\\n'))"
      ],
      "metadata": {
        "colab": {
          "base_uri": "https://localhost:8080/"
        },
        "id": "kUl2jB1wR7kq",
        "outputId": "c1ef7689-2431-44b2-9609-80a2de289b42"
      },
      "execution_count": 23,
      "outputs": [
        {
          "output_type": "stream",
          "name": "stdout",
          "text": [
            "['hey', 'hey', 'mostofa']\n",
            "['\\n\\n\\n\\they', 'hey', 'mostofa']\n",
            "['', '', '', '\\they hey mostofa']\n"
          ]
        }
      ]
    },
    {
      "cell_type": "code",
      "source": [
        "# Splitlines - splitting at new lines\n",
        "\n",
        "print('Hey\\n How\\n are\\n are you?'.splitlines())"
      ],
      "metadata": {
        "colab": {
          "base_uri": "https://localhost:8080/"
        },
        "id": "gsejvSrPR-g0",
        "outputId": "ffa36a90-2f15-4026-c52c-e0f3934193e3"
      },
      "execution_count": 24,
      "outputs": [
        {
          "output_type": "stream",
          "name": "stdout",
          "text": [
            "['Hey', ' How', ' are', ' are you?']\n"
          ]
        }
      ]
    },
    {
      "cell_type": "markdown",
      "source": [
        "# 9.Join Method"
      ],
      "metadata": {
        "id": "6g5sxwOTSUvP"
      }
    },
    {
      "cell_type": "code",
      "source": [
        "# Join method is used to join the elements in a list using a separator and convert into string\n",
        "\n",
        "print(''.join(['1','2','3']))\n",
        "print(','.join(['1','2','3']))\n",
        "print('$&$'.join(['1','2','3']))"
      ],
      "metadata": {
        "colab": {
          "base_uri": "https://localhost:8080/"
        },
        "id": "DwXusEIFSY8Q",
        "outputId": "32198b1b-12c2-4b7c-d551-10dea748835e"
      },
      "execution_count": 25,
      "outputs": [
        {
          "output_type": "stream",
          "name": "stdout",
          "text": [
            "123\n",
            "1,2,3\n",
            "1$&$2$&$3\n"
          ]
        }
      ]
    },
    {
      "cell_type": "code",
      "source": [
        "# Join also takes iterable and joins them: list,string,tuple,dictionary,set\n",
        "\n",
        "s1 = 'abc'\n",
        "s2 = '12345'\n",
        "\n",
        "print(s1.join(s2))\n",
        "print(s2.join(s1))"
      ],
      "metadata": {
        "colab": {
          "base_uri": "https://localhost:8080/"
        },
        "id": "-5mowjG3TAvI",
        "outputId": "f6460e06-92b3-4e12-f60a-71ad8af9f1f7"
      },
      "execution_count": 26,
      "outputs": [
        {
          "output_type": "stream",
          "name": "stdout",
          "text": [
            "1abc2abc3abc4abc5\n",
            "a12345b12345c\n"
          ]
        }
      ]
    },
    {
      "cell_type": "markdown",
      "source": [
        "# 10.String Formatting"
      ],
      "metadata": {
        "id": "_yo4og0ETuKG"
      }
    },
    {
      "cell_type": "code",
      "source": [
        "# String formatting using f'string\n",
        "\n",
        "name = 'Hello'\n",
        "age = 31\n",
        "val = 31.23\n",
        "print(f'{name} is {age} years old')\n",
        "\n",
        "# Integer value\n",
        "print(f'The integer value is{age:7d}')\n",
        "print(f'The integer value is{age:^7d}')\n",
        "print(f'The integer value is{age:<7d}')\n",
        "print()\n",
        "# Decimal value\n",
        "print(f'The decimal value is{val:12.4f}')\n",
        "print(f'The decimal value is{val:^12.4f}')\n",
        "print(f'The decimal value is{val:<12.4f}')"
      ],
      "metadata": {
        "colab": {
          "base_uri": "https://localhost:8080/"
        },
        "id": "RdKxGTgYTxmH",
        "outputId": "08fdf19e-6fbb-4fff-a44d-364273b8feb5"
      },
      "execution_count": 27,
      "outputs": [
        {
          "output_type": "stream",
          "name": "stdout",
          "text": [
            "Hello is 31 years old\n",
            "The integer value is     31\n",
            "The integer value is  31   \n",
            "The integer value is31     \n",
            "\n",
            "The decimal value is     31.2300\n",
            "The decimal value is  31.2300   \n",
            "The decimal value is31.2300     \n"
          ]
        }
      ]
    }
  ]
}