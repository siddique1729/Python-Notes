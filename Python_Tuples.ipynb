{
  "nbformat": 4,
  "nbformat_minor": 0,
  "metadata": {
    "colab": {
      "provenance": [],
      "toc_visible": true
    },
    "kernelspec": {
      "name": "python3",
      "display_name": "Python 3"
    },
    "language_info": {
      "name": "python"
    }
  },
  "cells": [
    {
      "cell_type": "markdown",
      "source": [
        "# 1.Tuple Intro"
      ],
      "metadata": {
        "id": "L3esBrCqU8dJ"
      }
    },
    {
      "cell_type": "code",
      "source": [
        "# Many similarities with list but cannot change or delete items\n",
        "# List - [] Tuple- ()\n",
        "# We can take string as an input and convert it into tuple\n",
        "# Slicing and enumerate operations are similar to that of the list\n",
        "\n",
        "t = () # creating a new and empty tuple\n",
        "t1 = (10) # int\n",
        "t2 = (10,) # tuple with a single element\n",
        "t3 = tuple([1,2,3]) # takes in a list and converts into tuple\n",
        "t4 = ((1,2,3)) # takes in a tuple and converts into tuple, here writing tuple() is the same thing\n",
        "t5 = tuple('most') # takes in a string and converts into tuple\n",
        "t6 = ('mostafa',12,'a','2',123)\n",
        "\n",
        "print(t1,t2,t3,t4,t5,t6,sep='-')\n",
        "print()\n",
        "print(type(t1),type(t2),type(t3),type(t4),type(t5),type(t6))"
      ],
      "metadata": {
        "colab": {
          "base_uri": "https://localhost:8080/"
        },
        "id": "OzDmmZOyVC1j",
        "outputId": "5122cf14-66da-4cfb-c553-276a5e8e6480"
      },
      "execution_count": 1,
      "outputs": [
        {
          "output_type": "stream",
          "name": "stdout",
          "text": [
            "10-(10,)-(1, 2, 3)-(1, 2, 3)-('m', 'o', 's', 't')-('mostafa', 12, 'a', '2', 123)\n",
            "\n",
            "<class 'int'> <class 'tuple'> <class 'tuple'> <class 'tuple'> <class 'tuple'> <class 'tuple'>\n"
          ]
        }
      ]
    },
    {
      "cell_type": "markdown",
      "source": [
        "# 2.Packing & Unpacking"
      ],
      "metadata": {
        "id": "yKfLJ1AmXXoa"
      }
    },
    {
      "cell_type": "code",
      "source": [
        "# Packing means to pack a list of numbers in a single variable or a set of variables\n",
        "# We have used tuple packing like atup = (1,2,3) is an example of tuple packing\n",
        "# Unpacking means to extract a pack of numbers from the variable(s) in which they were stored\n",
        "\n",
        "# Example 1\n",
        "\n",
        "lst = [1,2,3]\n",
        "print(lst)\n",
        "print(*lst) # here the print receives 3 arguments as the list 'lst' unpacks to throw out the list of numbers in it"
      ],
      "metadata": {
        "colab": {
          "base_uri": "https://localhost:8080/"
        },
        "id": "VuG8737eXbx_",
        "outputId": "de9524b3-0199-4dcc-cf3b-7d3d1fc316f5"
      },
      "execution_count": 2,
      "outputs": [
        {
          "output_type": "stream",
          "name": "stdout",
          "text": [
            "[1, 2, 3]\n",
            "1 2 3\n"
          ]
        }
      ]
    },
    {
      "cell_type": "code",
      "source": [
        "# Example 2\n",
        "\n",
        "lst1 = [1,2,3]\n",
        "lst2 = [4,5,6]\n",
        "comb = [*lst1,*lst2] # Unpacks list1 and list2 & takes in 3+3 arguments (both lists) \n",
        "\n",
        "print(comb) # 1 argument containing 1 list\n",
        "print(*comb) # 6 arguments containing the unpacked 6 elements from the list "
      ],
      "metadata": {
        "colab": {
          "base_uri": "https://localhost:8080/"
        },
        "id": "e7wUUDU1X8pA",
        "outputId": "51b43046-3ceb-4afd-f743-8aa7ef949335"
      },
      "execution_count": 3,
      "outputs": [
        {
          "output_type": "stream",
          "name": "stdout",
          "text": [
            "[1, 2, 3, 4, 5, 6]\n",
            "1 2 3 4 5 6\n"
          ]
        }
      ]
    },
    {
      "cell_type": "code",
      "source": [
        "# Example 3\n",
        "\n",
        "lst = 1,2,3,4,5\n",
        "print(lst) # it will take them as tuple\n",
        "\n",
        "#*lst1 = 1,2,3,4,5 - it will give an error - \"starred assignment target must be in a list or tuple\"\n",
        "\n",
        "a,b,*c = lst # it will pack the numbers in a list\n",
        "print(a,b,c)\n",
        "print(type(a),type(b),type(c))"
      ],
      "metadata": {
        "colab": {
          "base_uri": "https://localhost:8080/"
        },
        "id": "EKrVqo2xYjQv",
        "outputId": "6238e068-984c-4765-d9b2-d059b76d9011"
      },
      "execution_count": 4,
      "outputs": [
        {
          "output_type": "stream",
          "name": "stdout",
          "text": [
            "(1, 2, 3, 4, 5)\n",
            "1 2 [3, 4, 5]\n",
            "<class 'int'> <class 'int'> <class 'list'>\n"
          ]
        }
      ]
    },
    {
      "cell_type": "code",
      "source": [
        "# Example 4\n",
        "# This is known as deep unpacking\n",
        "\n",
        "lst = 1,2,(5,6)\n",
        "a,b,c = lst\n",
        "a,b,(d,e) = lst\n",
        "a,b,*f = lst\n",
        "\n",
        "print(a,b,c,d,e,f)\n",
        "print(type(a),type(b),type(c),type(d),type(e),type(f))"
      ],
      "metadata": {
        "colab": {
          "base_uri": "https://localhost:8080/"
        },
        "id": "yJCBVkIlZf__",
        "outputId": "a514c94c-4dc1-46f4-9a16-99cda715a5a4"
      },
      "execution_count": 5,
      "outputs": [
        {
          "output_type": "stream",
          "name": "stdout",
          "text": [
            "1 2 (5, 6) 5 6 [(5, 6)]\n",
            "<class 'int'> <class 'int'> <class 'tuple'> <class 'int'> <class 'int'> <class 'list'>\n"
          ]
        }
      ]
    },
    {
      "cell_type": "code",
      "source": [
        "# Example 5\n",
        "\n",
        "lst = [1,2,3,4,5]\n",
        "\n",
        "def fpack(items):\n",
        "  print(items)\n",
        "\n",
        "def fpack1(*items):\n",
        "  print(items) # prints the packed variable\n",
        "  print(*items) # unpacks the variable and prints the packed elements\n",
        "\n",
        "fpack(lst)\n",
        "#fpack(1,2,3) - it will give error as it takes only one argument\n",
        "print()\n",
        "\n",
        "fpack1(lst)\n",
        "fpack1(1,2,3) # takes in the argument and then packs"
      ],
      "metadata": {
        "colab": {
          "base_uri": "https://localhost:8080/"
        },
        "id": "TOYH1Ix5bX7F",
        "outputId": "36f4c175-cca9-4980-dba2-f52245fc7dcc"
      },
      "execution_count": 6,
      "outputs": [
        {
          "output_type": "stream",
          "name": "stdout",
          "text": [
            "[1, 2, 3, 4, 5]\n",
            "\n",
            "([1, 2, 3, 4, 5],)\n",
            "[1, 2, 3, 4, 5]\n",
            "(1, 2, 3)\n",
            "1 2 3\n"
          ]
        }
      ]
    },
    {
      "cell_type": "markdown",
      "source": [
        "# 3.Zipping & Unzip"
      ],
      "metadata": {
        "id": "3e2gONDdeu2v"
      }
    },
    {
      "cell_type": "code",
      "source": [
        "# Zipping is used to pair elements betwen tuples/lists. The elements are paired as tuples\n",
        "\n",
        "numbers = [1,2,3]\n",
        "letters = ['a','b','c']\n",
        "words = ['First','Second', 'Third']\n",
        "\n",
        "newz = zip(numbers,letters,words)\n",
        "print(newz)\n",
        "newzz = list(newz)\n",
        "print(newzz)\n",
        "newzzz = tuple(newz)\n",
        "print(newzzz)\n",
        "\n",
        "print(id(newz),id(newzz),id(newzzz))\n",
        "print(newz)\n",
        "zipped = newz\n",
        "print(zipped)\n",
        "zipped = list(zipped)\n",
        "print(zipped)\n",
        "\n",
        "# An interesting thing is happening here. Notice.\n",
        "# When it is zipped from the object, it performs the zipping and the object at that place is emptied\n",
        "# As such if we want to use it multiple times we initiate multiple times\n",
        "# newz = list(zip(numbers,letters,words))\n",
        "# newz = tuple(zip(numbers,letters,words))\n",
        "# If we try to apply tuple/list over the same variable again then it will return empty as the object is emptied"
      ],
      "metadata": {
        "colab": {
          "base_uri": "https://localhost:8080/"
        },
        "id": "zX6A5Rmxe2FJ",
        "outputId": "9dc23735-1921-477c-cb67-93876dc32ebc"
      },
      "execution_count": 7,
      "outputs": [
        {
          "output_type": "stream",
          "name": "stdout",
          "text": [
            "<zip object at 0x7fb9f9f7cdc0>\n",
            "[(1, 'a', 'First'), (2, 'b', 'Second'), (3, 'c', 'Third')]\n",
            "()\n",
            "140436739444160 140436739442048 140436716628528\n",
            "<zip object at 0x7fb9f9f7cdc0>\n",
            "<zip object at 0x7fb9f9f7cdc0>\n",
            "[]\n"
          ]
        }
      ]
    },
    {
      "cell_type": "code",
      "source": [
        "# Example 1 - Zipping with list\n",
        "\n",
        "numbers = [1,2,3]\n",
        "letters = ['a','b','c']\n",
        "words = ['First','Second', 'Third']\n",
        "\n",
        "zipped = list(zip(numbers, letters, words)) # zip\n",
        "print(zipped)\n",
        "print()\n",
        "\n",
        "for idx, tuple_item in enumerate(zipped): # Unzip\n",
        "  print(idx, tuple_item)\n",
        "\n",
        "print()\n",
        "\n",
        "for idx, (numbers, words, letters) in enumerate(zipped):\n",
        "  print(idx, numbers, words, letters)\n",
        "\n",
        "print()"
      ],
      "metadata": {
        "colab": {
          "base_uri": "https://localhost:8080/"
        },
        "id": "MKM8vQJih7IM",
        "outputId": "85439c1e-dd5c-4cc8-8d75-fcfede44569d"
      },
      "execution_count": 8,
      "outputs": [
        {
          "output_type": "stream",
          "name": "stdout",
          "text": [
            "[(1, 'a', 'First'), (2, 'b', 'Second'), (3, 'c', 'Third')]\n",
            "\n",
            "0 (1, 'a', 'First')\n",
            "1 (2, 'b', 'Second')\n",
            "2 (3, 'c', 'Third')\n",
            "\n",
            "0 1 a First\n",
            "1 2 b Second\n",
            "2 3 c Third\n",
            "\n"
          ]
        }
      ]
    },
    {
      "cell_type": "code",
      "source": [
        "# Example 2 - Zipping with tuple\n",
        "\n",
        "numbers = [1,2,3]\n",
        "letters = ['a','b','c']\n",
        "words = ['First','Second', 'Third']\n",
        "\n",
        "zipped = tuple(zip(numbers, letters, words)) # Zip\n",
        "print(zipped)\n",
        "print()\n",
        "\n",
        "for idx, tuple_item in enumerate(zipped): # Unzip\n",
        "  print(idx, tuple_item)\n",
        "\n",
        "print()\n",
        "\n",
        "for idx, (numbers, words, letters) in enumerate(zipped):\n",
        "  print(idx, numbers, words, letters)\n",
        "\n",
        "print()"
      ],
      "metadata": {
        "colab": {
          "base_uri": "https://localhost:8080/"
        },
        "id": "G3tqcn7j_Dbb",
        "outputId": "e497efc2-3e3c-4b9f-92ae-ef2d55691d7d"
      },
      "execution_count": 9,
      "outputs": [
        {
          "output_type": "stream",
          "name": "stdout",
          "text": [
            "((1, 'a', 'First'), (2, 'b', 'Second'), (3, 'c', 'Third'))\n",
            "\n",
            "0 (1, 'a', 'First')\n",
            "1 (2, 'b', 'Second')\n",
            "2 (3, 'c', 'Third')\n",
            "\n",
            "0 1 a First\n",
            "1 2 b Second\n",
            "2 3 c Third\n",
            "\n"
          ]
        }
      ]
    },
    {
      "cell_type": "code",
      "source": [
        "# Example 3 - Zipping with two lists of different ranges\n",
        "\n",
        "lst1 = range(10,15)\n",
        "lst2 = range(100)\n",
        "\n",
        "items = list(zip(lst1,lst2))\n",
        "print(items)"
      ],
      "metadata": {
        "colab": {
          "base_uri": "https://localhost:8080/"
        },
        "id": "uTxSqfFY_FPx",
        "outputId": "57bed106-fa5b-4172-9d6a-e98ffdd85e60"
      },
      "execution_count": 10,
      "outputs": [
        {
          "output_type": "stream",
          "name": "stdout",
          "text": [
            "[(10, 0), (11, 1), (12, 2), (13, 3), (14, 4)]\n"
          ]
        }
      ]
    },
    {
      "cell_type": "code",
      "source": [
        "# Example 4 - Unzipping elements using unpacking\n",
        "\n",
        "lst1 = [1,2,3,4,5]\n",
        "lst2 = [5,4,3,2,1]\n",
        "\n",
        "pair = list(zip(lst1,lst2)) # zipping\n",
        "print(pair)\n",
        "print(*pair)\n",
        "\n",
        "# unpack = *pair\n",
        "# this will give error because *pair unpacks and gives elements which cannot be stored in a single var\n",
        "\n",
        "seq1,seq2 = zip(*pair)\n",
        "print(seq1)\n",
        "print(seq1)"
      ],
      "metadata": {
        "colab": {
          "base_uri": "https://localhost:8080/"
        },
        "id": "1bpg4SAk_dUu",
        "outputId": "1aa40ab4-bb6b-4fe4-87ba-1ecda740af44"
      },
      "execution_count": 11,
      "outputs": [
        {
          "output_type": "stream",
          "name": "stdout",
          "text": [
            "[(1, 5), (2, 4), (3, 3), (4, 2), (5, 1)]\n",
            "(1, 5) (2, 4) (3, 3) (4, 2) (5, 1)\n",
            "(1, 2, 3, 4, 5)\n",
            "(1, 2, 3, 4, 5)\n"
          ]
        }
      ]
    }
  ]
}